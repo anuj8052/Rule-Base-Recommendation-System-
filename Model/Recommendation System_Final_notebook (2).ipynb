{
 "cells": [
  {
   "cell_type": "markdown",
   "id": "9adb04aa",
   "metadata": {},
   "source": [
    "### Importing Libraries"
   ]
  },
  {
   "cell_type": "markdown",
   "id": "e5794607",
   "metadata": {},
   "source": [
    "#### Imported important libraries for the data preprocessing as well as model building"
   ]
  },
  {
   "cell_type": "code",
   "execution_count": 1,
   "id": "10b51150",
   "metadata": {},
   "outputs": [],
   "source": [
    "import numpy as np\n",
    "import matplotlib.pyplot as plt\n",
    "import pandas as pd\n",
    "%matplotlib inline\n",
    "from sklearn.preprocessing import StandardScaler\n",
    "from sklearn.preprocessing import MinMaxScaler\n",
    "import seaborn as sns"
   ]
  },
  {
   "cell_type": "markdown",
   "id": "e09989bf",
   "metadata": {},
   "source": [
    "1. the mlxtend library that provides implementations of various frequent pattern mining algorithms, including the Apriori algorithm."
   ]
  },
  {
   "cell_type": "code",
   "execution_count": 2,
   "id": "b3f84f3d",
   "metadata": {},
   "outputs": [
    {
     "name": "stdout",
     "output_type": "stream",
     "text": [
      "Requirement already satisfied: mlxtend in ./anaconda3/lib/python3.10/site-packages (0.22.0)\n",
      "Requirement already satisfied: scipy>=1.2.1 in ./anaconda3/lib/python3.10/site-packages (from mlxtend) (1.11.1)\n",
      "Requirement already satisfied: numpy>=1.16.2 in ./anaconda3/lib/python3.10/site-packages (from mlxtend) (1.23.5)\n",
      "Requirement already satisfied: pandas>=0.24.2 in ./anaconda3/lib/python3.10/site-packages (from mlxtend) (1.5.3)\n",
      "Requirement already satisfied: scikit-learn>=1.0.2 in ./anaconda3/lib/python3.10/site-packages (from mlxtend) (1.2.1)\n",
      "Requirement already satisfied: matplotlib>=3.0.0 in ./anaconda3/lib/python3.10/site-packages (from mlxtend) (3.7.0)\n",
      "Requirement already satisfied: joblib>=0.13.2 in ./anaconda3/lib/python3.10/site-packages (from mlxtend) (1.1.1)\n",
      "Requirement already satisfied: setuptools in ./anaconda3/lib/python3.10/site-packages (from mlxtend) (67.7.2)\n",
      "Requirement already satisfied: contourpy>=1.0.1 in ./anaconda3/lib/python3.10/site-packages (from matplotlib>=3.0.0->mlxtend) (1.0.5)\n",
      "Requirement already satisfied: cycler>=0.10 in ./anaconda3/lib/python3.10/site-packages (from matplotlib>=3.0.0->mlxtend) (0.11.0)\n",
      "Requirement already satisfied: fonttools>=4.22.0 in ./anaconda3/lib/python3.10/site-packages (from matplotlib>=3.0.0->mlxtend) (4.25.0)\n",
      "Requirement already satisfied: kiwisolver>=1.0.1 in ./anaconda3/lib/python3.10/site-packages (from matplotlib>=3.0.0->mlxtend) (1.4.4)\n",
      "Requirement already satisfied: packaging>=20.0 in ./anaconda3/lib/python3.10/site-packages (from matplotlib>=3.0.0->mlxtend) (22.0)\n",
      "Requirement already satisfied: pillow>=6.2.0 in ./anaconda3/lib/python3.10/site-packages (from matplotlib>=3.0.0->mlxtend) (9.4.0)\n",
      "Requirement already satisfied: pyparsing>=2.3.1 in ./anaconda3/lib/python3.10/site-packages (from matplotlib>=3.0.0->mlxtend) (3.0.9)\n",
      "Requirement already satisfied: python-dateutil>=2.7 in ./anaconda3/lib/python3.10/site-packages (from matplotlib>=3.0.0->mlxtend) (2.8.2)\n",
      "Requirement already satisfied: pytz>=2020.1 in ./anaconda3/lib/python3.10/site-packages (from pandas>=0.24.2->mlxtend) (2022.7)\n",
      "Requirement already satisfied: threadpoolctl>=2.0.0 in ./anaconda3/lib/python3.10/site-packages (from scikit-learn>=1.0.2->mlxtend) (2.2.0)\n",
      "Requirement already satisfied: six>=1.5 in ./anaconda3/lib/python3.10/site-packages (from python-dateutil>=2.7->matplotlib>=3.0.0->mlxtend) (1.16.0)\n",
      "Note: you may need to restart the kernel to use updated packages.\n"
     ]
    }
   ],
   "source": [
    "pip install mlxtend"
   ]
  },
  {
   "cell_type": "code",
   "execution_count": 3,
   "id": "c9f9b056",
   "metadata": {},
   "outputs": [],
   "source": [
    "pd.set_option('display.max_columns', None)\n",
    "pd.set_option('display.width', 500)\n",
    "pd.set_option('display.expand_frame_repr', False)\n",
    "from mlxtend.frequent_patterns import apriori, association_rules"
   ]
  },
  {
   "cell_type": "markdown",
   "id": "727a3b28",
   "metadata": {},
   "source": [
    "### Data Prerocessing"
   ]
  },
  {
   "cell_type": "markdown",
   "id": "1013667e",
   "metadata": {},
   "source": [
    "##### accessing the dataset from the online retail datasheet for the year 2010-2011"
   ]
  },
  {
   "cell_type": "code",
   "execution_count": 4,
   "id": "3e2759e8",
   "metadata": {},
   "outputs": [],
   "source": [
    "df = pd.read_excel(\"Downloads/online_retail_II.xlsx\", sheet_name = 'Year 2010-2011')"
   ]
  },
  {
   "cell_type": "code",
   "execution_count": 5,
   "id": "fcccc542",
   "metadata": {},
   "outputs": [
    {
     "data": {
      "text/html": [
       "<div>\n",
       "<style scoped>\n",
       "    .dataframe tbody tr th:only-of-type {\n",
       "        vertical-align: middle;\n",
       "    }\n",
       "\n",
       "    .dataframe tbody tr th {\n",
       "        vertical-align: top;\n",
       "    }\n",
       "\n",
       "    .dataframe thead th {\n",
       "        text-align: right;\n",
       "    }\n",
       "</style>\n",
       "<table border=\"1\" class=\"dataframe\">\n",
       "  <thead>\n",
       "    <tr style=\"text-align: right;\">\n",
       "      <th></th>\n",
       "      <th>Invoice</th>\n",
       "      <th>StockCode</th>\n",
       "      <th>Description</th>\n",
       "      <th>Quantity</th>\n",
       "      <th>InvoiceDate</th>\n",
       "      <th>Price</th>\n",
       "      <th>Customer ID</th>\n",
       "      <th>Country</th>\n",
       "    </tr>\n",
       "  </thead>\n",
       "  <tbody>\n",
       "    <tr>\n",
       "      <th>0</th>\n",
       "      <td>536365</td>\n",
       "      <td>85123A</td>\n",
       "      <td>WHITE HANGING HEART T-LIGHT HOLDER</td>\n",
       "      <td>6</td>\n",
       "      <td>2010-12-01 08:26:00</td>\n",
       "      <td>2.55</td>\n",
       "      <td>17850.0</td>\n",
       "      <td>United Kingdom</td>\n",
       "    </tr>\n",
       "    <tr>\n",
       "      <th>1</th>\n",
       "      <td>536365</td>\n",
       "      <td>71053</td>\n",
       "      <td>WHITE METAL LANTERN</td>\n",
       "      <td>6</td>\n",
       "      <td>2010-12-01 08:26:00</td>\n",
       "      <td>3.39</td>\n",
       "      <td>17850.0</td>\n",
       "      <td>United Kingdom</td>\n",
       "    </tr>\n",
       "    <tr>\n",
       "      <th>2</th>\n",
       "      <td>536365</td>\n",
       "      <td>84406B</td>\n",
       "      <td>CREAM CUPID HEARTS COAT HANGER</td>\n",
       "      <td>8</td>\n",
       "      <td>2010-12-01 08:26:00</td>\n",
       "      <td>2.75</td>\n",
       "      <td>17850.0</td>\n",
       "      <td>United Kingdom</td>\n",
       "    </tr>\n",
       "    <tr>\n",
       "      <th>3</th>\n",
       "      <td>536365</td>\n",
       "      <td>84029G</td>\n",
       "      <td>KNITTED UNION FLAG HOT WATER BOTTLE</td>\n",
       "      <td>6</td>\n",
       "      <td>2010-12-01 08:26:00</td>\n",
       "      <td>3.39</td>\n",
       "      <td>17850.0</td>\n",
       "      <td>United Kingdom</td>\n",
       "    </tr>\n",
       "    <tr>\n",
       "      <th>4</th>\n",
       "      <td>536365</td>\n",
       "      <td>84029E</td>\n",
       "      <td>RED WOOLLY HOTTIE WHITE HEART.</td>\n",
       "      <td>6</td>\n",
       "      <td>2010-12-01 08:26:00</td>\n",
       "      <td>3.39</td>\n",
       "      <td>17850.0</td>\n",
       "      <td>United Kingdom</td>\n",
       "    </tr>\n",
       "  </tbody>\n",
       "</table>\n",
       "</div>"
      ],
      "text/plain": [
       "  Invoice StockCode                          Description  Quantity         InvoiceDate  Price  Customer ID         Country\n",
       "0  536365    85123A   WHITE HANGING HEART T-LIGHT HOLDER         6 2010-12-01 08:26:00   2.55      17850.0  United Kingdom\n",
       "1  536365     71053                  WHITE METAL LANTERN         6 2010-12-01 08:26:00   3.39      17850.0  United Kingdom\n",
       "2  536365    84406B       CREAM CUPID HEARTS COAT HANGER         8 2010-12-01 08:26:00   2.75      17850.0  United Kingdom\n",
       "3  536365    84029G  KNITTED UNION FLAG HOT WATER BOTTLE         6 2010-12-01 08:26:00   3.39      17850.0  United Kingdom\n",
       "4  536365    84029E       RED WOOLLY HOTTIE WHITE HEART.         6 2010-12-01 08:26:00   3.39      17850.0  United Kingdom"
      ]
     },
     "execution_count": 5,
     "metadata": {},
     "output_type": "execute_result"
    }
   ],
   "source": [
    "df.head()"
   ]
  },
  {
   "cell_type": "code",
   "execution_count": 6,
   "id": "8bdb01db",
   "metadata": {},
   "outputs": [
    {
     "name": "stdout",
     "output_type": "stream",
     "text": [
      "<class 'pandas.core.frame.DataFrame'>\n",
      "RangeIndex: 541910 entries, 0 to 541909\n",
      "Data columns (total 8 columns):\n",
      " #   Column       Non-Null Count   Dtype         \n",
      "---  ------       --------------   -----         \n",
      " 0   Invoice      541910 non-null  object        \n",
      " 1   StockCode    541910 non-null  object        \n",
      " 2   Description  540456 non-null  object        \n",
      " 3   Quantity     541910 non-null  int64         \n",
      " 4   InvoiceDate  541910 non-null  datetime64[ns]\n",
      " 5   Price        541910 non-null  float64       \n",
      " 6   Customer ID  406830 non-null  float64       \n",
      " 7   Country      541910 non-null  object        \n",
      "dtypes: datetime64[ns](1), float64(2), int64(1), object(4)\n",
      "memory usage: 33.1+ MB\n"
     ]
    }
   ],
   "source": [
    "df.info()"
   ]
  },
  {
   "cell_type": "code",
   "execution_count": 7,
   "id": "9c6512e1",
   "metadata": {},
   "outputs": [
    {
     "data": {
      "text/plain": [
       "(541910, 8)"
      ]
     },
     "execution_count": 7,
     "metadata": {},
     "output_type": "execute_result"
    }
   ],
   "source": [
    "df.shape"
   ]
  },
  {
   "cell_type": "code",
   "execution_count": 8,
   "id": "3abdaf48",
   "metadata": {},
   "outputs": [
    {
     "data": {
      "text/html": [
       "<div>\n",
       "<style scoped>\n",
       "    .dataframe tbody tr th:only-of-type {\n",
       "        vertical-align: middle;\n",
       "    }\n",
       "\n",
       "    .dataframe tbody tr th {\n",
       "        vertical-align: top;\n",
       "    }\n",
       "\n",
       "    .dataframe thead th {\n",
       "        text-align: right;\n",
       "    }\n",
       "</style>\n",
       "<table border=\"1\" class=\"dataframe\">\n",
       "  <thead>\n",
       "    <tr style=\"text-align: right;\">\n",
       "      <th></th>\n",
       "      <th>Quantity</th>\n",
       "      <th>Price</th>\n",
       "      <th>Customer ID</th>\n",
       "    </tr>\n",
       "  </thead>\n",
       "  <tbody>\n",
       "    <tr>\n",
       "      <th>count</th>\n",
       "      <td>541910.000000</td>\n",
       "      <td>541910.000000</td>\n",
       "      <td>406830.000000</td>\n",
       "    </tr>\n",
       "    <tr>\n",
       "      <th>mean</th>\n",
       "      <td>9.552234</td>\n",
       "      <td>4.611138</td>\n",
       "      <td>15287.684160</td>\n",
       "    </tr>\n",
       "    <tr>\n",
       "      <th>std</th>\n",
       "      <td>218.080957</td>\n",
       "      <td>96.759765</td>\n",
       "      <td>1713.603074</td>\n",
       "    </tr>\n",
       "    <tr>\n",
       "      <th>min</th>\n",
       "      <td>-80995.000000</td>\n",
       "      <td>-11062.060000</td>\n",
       "      <td>12346.000000</td>\n",
       "    </tr>\n",
       "    <tr>\n",
       "      <th>25%</th>\n",
       "      <td>1.000000</td>\n",
       "      <td>1.250000</td>\n",
       "      <td>13953.000000</td>\n",
       "    </tr>\n",
       "    <tr>\n",
       "      <th>50%</th>\n",
       "      <td>3.000000</td>\n",
       "      <td>2.080000</td>\n",
       "      <td>15152.000000</td>\n",
       "    </tr>\n",
       "    <tr>\n",
       "      <th>75%</th>\n",
       "      <td>10.000000</td>\n",
       "      <td>4.130000</td>\n",
       "      <td>16791.000000</td>\n",
       "    </tr>\n",
       "    <tr>\n",
       "      <th>max</th>\n",
       "      <td>80995.000000</td>\n",
       "      <td>38970.000000</td>\n",
       "      <td>18287.000000</td>\n",
       "    </tr>\n",
       "  </tbody>\n",
       "</table>\n",
       "</div>"
      ],
      "text/plain": [
       "            Quantity          Price    Customer ID\n",
       "count  541910.000000  541910.000000  406830.000000\n",
       "mean        9.552234       4.611138   15287.684160\n",
       "std       218.080957      96.759765    1713.603074\n",
       "min    -80995.000000  -11062.060000   12346.000000\n",
       "25%         1.000000       1.250000   13953.000000\n",
       "50%         3.000000       2.080000   15152.000000\n",
       "75%        10.000000       4.130000   16791.000000\n",
       "max     80995.000000   38970.000000   18287.000000"
      ]
     },
     "execution_count": 8,
     "metadata": {},
     "output_type": "execute_result"
    }
   ],
   "source": [
    "df.describe()"
   ]
  },
  {
   "cell_type": "code",
   "execution_count": 9,
   "id": "396b7610",
   "metadata": {},
   "outputs": [],
   "source": [
    "# !pip install openpyxl"
   ]
  },
  {
   "cell_type": "code",
   "execution_count": 10,
   "id": "eda8a5b5",
   "metadata": {},
   "outputs": [],
   "source": [
    "# checking for the unique values in each column for the futher analysis"
   ]
  },
  {
   "cell_type": "code",
   "execution_count": 11,
   "id": "9676253f",
   "metadata": {},
   "outputs": [
    {
     "data": {
      "text/plain": [
       "722"
      ]
     },
     "execution_count": 11,
     "metadata": {},
     "output_type": "execute_result"
    }
   ],
   "source": [
    "df['Quantity'].nunique()"
   ]
  },
  {
   "cell_type": "code",
   "execution_count": 12,
   "id": "bff16e87",
   "metadata": {},
   "outputs": [
    {
     "data": {
      "text/plain": [
       "array(['85123A', 71053, '84406B', ..., '90214U', '47591b', 23843],\n",
       "      dtype=object)"
      ]
     },
     "execution_count": 12,
     "metadata": {},
     "output_type": "execute_result"
    }
   ],
   "source": [
    "df['StockCode'].unique()"
   ]
  },
  {
   "cell_type": "code",
   "execution_count": 13,
   "id": "6060a0a6",
   "metadata": {},
   "outputs": [
    {
     "data": {
      "text/plain": [
       "4070"
      ]
     },
     "execution_count": 13,
     "metadata": {},
     "output_type": "execute_result"
    }
   ],
   "source": [
    "df['StockCode'].nunique()"
   ]
  },
  {
   "cell_type": "code",
   "execution_count": 14,
   "id": "3aabde13",
   "metadata": {},
   "outputs": [
    {
     "data": {
      "text/plain": [
       "array(['United Kingdom', 'France', 'Australia', 'Netherlands', 'Germany',\n",
       "       'Norway', 'EIRE', 'Switzerland', 'Spain', 'Poland', 'Portugal',\n",
       "       'Italy', 'Belgium', 'Lithuania', 'Japan', 'Iceland',\n",
       "       'Channel Islands', 'Denmark', 'Cyprus', 'Sweden', 'Austria',\n",
       "       'Israel', 'Finland', 'Bahrain', 'Greece', 'Hong Kong', 'Singapore',\n",
       "       'Lebanon', 'United Arab Emirates', 'Saudi Arabia',\n",
       "       'Czech Republic', 'Canada', 'Unspecified', 'Brazil', 'USA',\n",
       "       'European Community', 'Malta', 'RSA'], dtype=object)"
      ]
     },
     "execution_count": 14,
     "metadata": {},
     "output_type": "execute_result"
    }
   ],
   "source": [
    "df['Country'].unique()"
   ]
  },
  {
   "cell_type": "code",
   "execution_count": 15,
   "id": "c699ff12",
   "metadata": {},
   "outputs": [
    {
     "data": {
      "text/plain": [
       "38"
      ]
     },
     "execution_count": 15,
     "metadata": {},
     "output_type": "execute_result"
    }
   ],
   "source": [
    "df['Country'].nunique()"
   ]
  },
  {
   "cell_type": "code",
   "execution_count": 16,
   "id": "bc106c4b",
   "metadata": {},
   "outputs": [
    {
     "data": {
      "text/plain": [
       "array([17850., 13047., 12583., ..., 13298., 14569., 12713.])"
      ]
     },
     "execution_count": 16,
     "metadata": {},
     "output_type": "execute_result"
    }
   ],
   "source": [
    "df['Customer ID'].unique() "
   ]
  },
  {
   "cell_type": "code",
   "execution_count": 17,
   "id": "9c1b4cce",
   "metadata": {},
   "outputs": [
    {
     "data": {
      "text/plain": [
       "4372"
      ]
     },
     "execution_count": 17,
     "metadata": {},
     "output_type": "execute_result"
    }
   ],
   "source": [
    "df['Customer ID'].nunique()"
   ]
  },
  {
   "cell_type": "markdown",
   "id": "3557e486",
   "metadata": {},
   "source": [
    "### Checking for Missing or NaN values"
   ]
  },
  {
   "cell_type": "code",
   "execution_count": 18,
   "id": "fc060dc5",
   "metadata": {},
   "outputs": [
    {
     "data": {
      "text/plain": [
       "Invoice             0\n",
       "StockCode           0\n",
       "Description      1454\n",
       "Quantity            0\n",
       "InvoiceDate         0\n",
       "Price               0\n",
       "Customer ID    135080\n",
       "Country             0\n",
       "dtype: int64"
      ]
     },
     "execution_count": 18,
     "metadata": {},
     "output_type": "execute_result"
    }
   ],
   "source": [
    "df.isna().sum()"
   ]
  },
  {
   "cell_type": "markdown",
   "id": "f6ffaf8c",
   "metadata": {},
   "source": [
    "1. As we can see in the Description Column there 1454 NaN values\n",
    "2. for the column Customer ID there are 135080 NaN vlaues or we can say that 135080 rows\n",
    "3. To handle the missing values or NaN values we can directly drop or fill while seeing previous data"
   ]
  },
  {
   "cell_type": "code",
   "execution_count": 19,
   "id": "ebcdb6e4",
   "metadata": {},
   "outputs": [],
   "source": [
    "columns_to_backfill = ['Description', 'Customer ID']\n",
    "df[columns_to_backfill] = df[columns_to_backfill].fillna(method='bfill')"
   ]
  },
  {
   "cell_type": "code",
   "execution_count": 20,
   "id": "976e9bf4",
   "metadata": {},
   "outputs": [
    {
     "data": {
      "text/html": [
       "<div>\n",
       "<style scoped>\n",
       "    .dataframe tbody tr th:only-of-type {\n",
       "        vertical-align: middle;\n",
       "    }\n",
       "\n",
       "    .dataframe tbody tr th {\n",
       "        vertical-align: top;\n",
       "    }\n",
       "\n",
       "    .dataframe thead th {\n",
       "        text-align: right;\n",
       "    }\n",
       "</style>\n",
       "<table border=\"1\" class=\"dataframe\">\n",
       "  <thead>\n",
       "    <tr style=\"text-align: right;\">\n",
       "      <th></th>\n",
       "      <th>Invoice</th>\n",
       "      <th>StockCode</th>\n",
       "      <th>Description</th>\n",
       "      <th>Quantity</th>\n",
       "      <th>InvoiceDate</th>\n",
       "      <th>Price</th>\n",
       "      <th>Customer ID</th>\n",
       "      <th>Country</th>\n",
       "    </tr>\n",
       "  </thead>\n",
       "  <tbody>\n",
       "    <tr>\n",
       "      <th>0</th>\n",
       "      <td>False</td>\n",
       "      <td>False</td>\n",
       "      <td>False</td>\n",
       "      <td>False</td>\n",
       "      <td>False</td>\n",
       "      <td>False</td>\n",
       "      <td>False</td>\n",
       "      <td>False</td>\n",
       "    </tr>\n",
       "    <tr>\n",
       "      <th>1</th>\n",
       "      <td>False</td>\n",
       "      <td>False</td>\n",
       "      <td>False</td>\n",
       "      <td>False</td>\n",
       "      <td>False</td>\n",
       "      <td>False</td>\n",
       "      <td>False</td>\n",
       "      <td>False</td>\n",
       "    </tr>\n",
       "    <tr>\n",
       "      <th>2</th>\n",
       "      <td>False</td>\n",
       "      <td>False</td>\n",
       "      <td>False</td>\n",
       "      <td>False</td>\n",
       "      <td>False</td>\n",
       "      <td>False</td>\n",
       "      <td>False</td>\n",
       "      <td>False</td>\n",
       "    </tr>\n",
       "    <tr>\n",
       "      <th>3</th>\n",
       "      <td>False</td>\n",
       "      <td>False</td>\n",
       "      <td>False</td>\n",
       "      <td>False</td>\n",
       "      <td>False</td>\n",
       "      <td>False</td>\n",
       "      <td>False</td>\n",
       "      <td>False</td>\n",
       "    </tr>\n",
       "    <tr>\n",
       "      <th>4</th>\n",
       "      <td>False</td>\n",
       "      <td>False</td>\n",
       "      <td>False</td>\n",
       "      <td>False</td>\n",
       "      <td>False</td>\n",
       "      <td>False</td>\n",
       "      <td>False</td>\n",
       "      <td>False</td>\n",
       "    </tr>\n",
       "  </tbody>\n",
       "</table>\n",
       "</div>"
      ],
      "text/plain": [
       "   Invoice  StockCode  Description  Quantity  InvoiceDate  Price  Customer ID  Country\n",
       "0    False      False        False     False        False  False        False    False\n",
       "1    False      False        False     False        False  False        False    False\n",
       "2    False      False        False     False        False  False        False    False\n",
       "3    False      False        False     False        False  False        False    False\n",
       "4    False      False        False     False        False  False        False    False"
      ]
     },
     "execution_count": 20,
     "metadata": {},
     "output_type": "execute_result"
    }
   ],
   "source": [
    "df.isnull().head()"
   ]
  },
  {
   "cell_type": "code",
   "execution_count": 21,
   "id": "9ffa528c",
   "metadata": {},
   "outputs": [
    {
     "data": {
      "text/plain": [
       "Invoice        0\n",
       "StockCode      0\n",
       "Description    0\n",
       "Quantity       0\n",
       "InvoiceDate    0\n",
       "Price          0\n",
       "Customer ID    0\n",
       "Country        0\n",
       "dtype: int64"
      ]
     },
     "execution_count": 21,
     "metadata": {},
     "output_type": "execute_result"
    }
   ],
   "source": [
    "df.isna().sum()"
   ]
  },
  {
   "cell_type": "markdown",
   "id": "63bd85d2",
   "metadata": {},
   "source": [
    "### creating a mask i.e boolian mask for those rows which has NaN or null values\n",
    "1. extracting alll the rows having NaN or missing values"
   ]
  },
  {
   "cell_type": "code",
   "execution_count": 22,
   "id": "9363c309",
   "metadata": {},
   "outputs": [],
   "source": [
    "mask = df.isnull().any(axis = 1)\n",
    "rows_with_nan = df[mask]"
   ]
  },
  {
   "cell_type": "code",
   "execution_count": 23,
   "id": "565b87ce",
   "metadata": {},
   "outputs": [
    {
     "data": {
      "text/html": [
       "<div>\n",
       "<style scoped>\n",
       "    .dataframe tbody tr th:only-of-type {\n",
       "        vertical-align: middle;\n",
       "    }\n",
       "\n",
       "    .dataframe tbody tr th {\n",
       "        vertical-align: top;\n",
       "    }\n",
       "\n",
       "    .dataframe thead th {\n",
       "        text-align: right;\n",
       "    }\n",
       "</style>\n",
       "<table border=\"1\" class=\"dataframe\">\n",
       "  <thead>\n",
       "    <tr style=\"text-align: right;\">\n",
       "      <th></th>\n",
       "      <th>Invoice</th>\n",
       "      <th>StockCode</th>\n",
       "      <th>Description</th>\n",
       "      <th>Quantity</th>\n",
       "      <th>InvoiceDate</th>\n",
       "      <th>Price</th>\n",
       "      <th>Customer ID</th>\n",
       "      <th>Country</th>\n",
       "    </tr>\n",
       "  </thead>\n",
       "  <tbody>\n",
       "  </tbody>\n",
       "</table>\n",
       "</div>"
      ],
      "text/plain": [
       "Empty DataFrame\n",
       "Columns: [Invoice, StockCode, Description, Quantity, InvoiceDate, Price, Customer ID, Country]\n",
       "Index: []"
      ]
     },
     "execution_count": 23,
     "metadata": {},
     "output_type": "execute_result"
    }
   ],
   "source": [
    "rows_with_nan"
   ]
  },
  {
   "cell_type": "code",
   "execution_count": 24,
   "id": "5abd3215",
   "metadata": {},
   "outputs": [
    {
     "data": {
      "text/plain": [
       "(0, 8)"
      ]
     },
     "execution_count": 24,
     "metadata": {},
     "output_type": "execute_result"
    }
   ],
   "source": [
    "rows_with_nan.shape"
   ]
  },
  {
   "cell_type": "markdown",
   "id": "7103b865",
   "metadata": {},
   "source": [
    "1. As we can see that we have NaN value rows more than 1 lakh i.e 135080\n",
    "2. For our analysis we will check for the upper outlier and lower outlier vlaues in the dataset and according to we will drop the values"
   ]
  },
  {
   "cell_type": "code",
   "execution_count": 25,
   "id": "0c683ec0",
   "metadata": {},
   "outputs": [
    {
     "data": {
      "text/html": [
       "<div>\n",
       "<style scoped>\n",
       "    .dataframe tbody tr th:only-of-type {\n",
       "        vertical-align: middle;\n",
       "    }\n",
       "\n",
       "    .dataframe tbody tr th {\n",
       "        vertical-align: top;\n",
       "    }\n",
       "\n",
       "    .dataframe thead th {\n",
       "        text-align: right;\n",
       "    }\n",
       "</style>\n",
       "<table border=\"1\" class=\"dataframe\">\n",
       "  <thead>\n",
       "    <tr style=\"text-align: right;\">\n",
       "      <th></th>\n",
       "      <th>Invoice</th>\n",
       "      <th>StockCode</th>\n",
       "      <th>Description</th>\n",
       "      <th>Quantity</th>\n",
       "      <th>InvoiceDate</th>\n",
       "      <th>Price</th>\n",
       "      <th>Customer ID</th>\n",
       "      <th>Country</th>\n",
       "    </tr>\n",
       "  </thead>\n",
       "  <tbody>\n",
       "  </tbody>\n",
       "</table>\n",
       "</div>"
      ],
      "text/plain": [
       "Empty DataFrame\n",
       "Columns: [Invoice, StockCode, Description, Quantity, InvoiceDate, Price, Customer ID, Country]\n",
       "Index: []"
      ]
     },
     "execution_count": 25,
     "metadata": {},
     "output_type": "execute_result"
    }
   ],
   "source": [
    "rows_with_nan.head()"
   ]
  },
  {
   "cell_type": "code",
   "execution_count": 26,
   "id": "754f1520",
   "metadata": {},
   "outputs": [
    {
     "name": "stdout",
     "output_type": "stream",
     "text": [
      "<class 'pandas.core.frame.DataFrame'>\n",
      "Int64Index: 0 entries\n",
      "Data columns (total 8 columns):\n",
      " #   Column       Non-Null Count  Dtype         \n",
      "---  ------       --------------  -----         \n",
      " 0   Invoice      0 non-null      object        \n",
      " 1   StockCode    0 non-null      object        \n",
      " 2   Description  0 non-null      object        \n",
      " 3   Quantity     0 non-null      int64         \n",
      " 4   InvoiceDate  0 non-null      datetime64[ns]\n",
      " 5   Price        0 non-null      float64       \n",
      " 6   Customer ID  0 non-null      float64       \n",
      " 7   Country      0 non-null      object        \n",
      "dtypes: datetime64[ns](1), float64(2), int64(1), object(4)\n",
      "memory usage: 0.0+ bytes\n"
     ]
    }
   ],
   "source": [
    "rows_with_nan.info()"
   ]
  },
  {
   "cell_type": "code",
   "execution_count": 27,
   "id": "323f89b2",
   "metadata": {},
   "outputs": [],
   "source": [
    "data = df.copy()"
   ]
  },
  {
   "cell_type": "code",
   "execution_count": 28,
   "id": "cff1a44d",
   "metadata": {},
   "outputs": [
    {
     "data": {
      "text/html": [
       "<div>\n",
       "<style scoped>\n",
       "    .dataframe tbody tr th:only-of-type {\n",
       "        vertical-align: middle;\n",
       "    }\n",
       "\n",
       "    .dataframe tbody tr th {\n",
       "        vertical-align: top;\n",
       "    }\n",
       "\n",
       "    .dataframe thead th {\n",
       "        text-align: right;\n",
       "    }\n",
       "</style>\n",
       "<table border=\"1\" class=\"dataframe\">\n",
       "  <thead>\n",
       "    <tr style=\"text-align: right;\">\n",
       "      <th></th>\n",
       "      <th>Invoice</th>\n",
       "      <th>StockCode</th>\n",
       "      <th>Description</th>\n",
       "      <th>Quantity</th>\n",
       "      <th>InvoiceDate</th>\n",
       "      <th>Price</th>\n",
       "      <th>Customer ID</th>\n",
       "      <th>Country</th>\n",
       "    </tr>\n",
       "  </thead>\n",
       "  <tbody>\n",
       "    <tr>\n",
       "      <th>0</th>\n",
       "      <td>536365</td>\n",
       "      <td>85123A</td>\n",
       "      <td>WHITE HANGING HEART T-LIGHT HOLDER</td>\n",
       "      <td>6</td>\n",
       "      <td>2010-12-01 08:26:00</td>\n",
       "      <td>2.55</td>\n",
       "      <td>17850.0</td>\n",
       "      <td>United Kingdom</td>\n",
       "    </tr>\n",
       "    <tr>\n",
       "      <th>1</th>\n",
       "      <td>536365</td>\n",
       "      <td>71053</td>\n",
       "      <td>WHITE METAL LANTERN</td>\n",
       "      <td>6</td>\n",
       "      <td>2010-12-01 08:26:00</td>\n",
       "      <td>3.39</td>\n",
       "      <td>17850.0</td>\n",
       "      <td>United Kingdom</td>\n",
       "    </tr>\n",
       "    <tr>\n",
       "      <th>2</th>\n",
       "      <td>536365</td>\n",
       "      <td>84406B</td>\n",
       "      <td>CREAM CUPID HEARTS COAT HANGER</td>\n",
       "      <td>8</td>\n",
       "      <td>2010-12-01 08:26:00</td>\n",
       "      <td>2.75</td>\n",
       "      <td>17850.0</td>\n",
       "      <td>United Kingdom</td>\n",
       "    </tr>\n",
       "    <tr>\n",
       "      <th>3</th>\n",
       "      <td>536365</td>\n",
       "      <td>84029G</td>\n",
       "      <td>KNITTED UNION FLAG HOT WATER BOTTLE</td>\n",
       "      <td>6</td>\n",
       "      <td>2010-12-01 08:26:00</td>\n",
       "      <td>3.39</td>\n",
       "      <td>17850.0</td>\n",
       "      <td>United Kingdom</td>\n",
       "    </tr>\n",
       "    <tr>\n",
       "      <th>4</th>\n",
       "      <td>536365</td>\n",
       "      <td>84029E</td>\n",
       "      <td>RED WOOLLY HOTTIE WHITE HEART.</td>\n",
       "      <td>6</td>\n",
       "      <td>2010-12-01 08:26:00</td>\n",
       "      <td>3.39</td>\n",
       "      <td>17850.0</td>\n",
       "      <td>United Kingdom</td>\n",
       "    </tr>\n",
       "  </tbody>\n",
       "</table>\n",
       "</div>"
      ],
      "text/plain": [
       "  Invoice StockCode                          Description  Quantity         InvoiceDate  Price  Customer ID         Country\n",
       "0  536365    85123A   WHITE HANGING HEART T-LIGHT HOLDER         6 2010-12-01 08:26:00   2.55      17850.0  United Kingdom\n",
       "1  536365     71053                  WHITE METAL LANTERN         6 2010-12-01 08:26:00   3.39      17850.0  United Kingdom\n",
       "2  536365    84406B       CREAM CUPID HEARTS COAT HANGER         8 2010-12-01 08:26:00   2.75      17850.0  United Kingdom\n",
       "3  536365    84029G  KNITTED UNION FLAG HOT WATER BOTTLE         6 2010-12-01 08:26:00   3.39      17850.0  United Kingdom\n",
       "4  536365    84029E       RED WOOLLY HOTTIE WHITE HEART.         6 2010-12-01 08:26:00   3.39      17850.0  United Kingdom"
      ]
     },
     "execution_count": 28,
     "metadata": {},
     "output_type": "execute_result"
    }
   ],
   "source": [
    "data.head()"
   ]
  },
  {
   "cell_type": "code",
   "execution_count": 29,
   "id": "4116b07b",
   "metadata": {},
   "outputs": [
    {
     "data": {
      "text/plain": [
       "(541910, 8)"
      ]
     },
     "execution_count": 29,
     "metadata": {},
     "output_type": "execute_result"
    }
   ],
   "source": [
    "data.shape"
   ]
  },
  {
   "cell_type": "code",
   "execution_count": 30,
   "id": "af1f31fd",
   "metadata": {},
   "outputs": [],
   "source": [
    "data.dropna(inplace = True)"
   ]
  },
  {
   "cell_type": "code",
   "execution_count": 31,
   "id": "3afcca9d",
   "metadata": {},
   "outputs": [
    {
     "data": {
      "text/plain": [
       "Invoice        0\n",
       "StockCode      0\n",
       "Description    0\n",
       "Quantity       0\n",
       "InvoiceDate    0\n",
       "Price          0\n",
       "Customer ID    0\n",
       "Country        0\n",
       "dtype: int64"
      ]
     },
     "execution_count": 31,
     "metadata": {},
     "output_type": "execute_result"
    }
   ],
   "source": [
    "data.isna().sum()"
   ]
  },
  {
   "cell_type": "code",
   "execution_count": 32,
   "id": "f1074109",
   "metadata": {},
   "outputs": [
    {
     "data": {
      "text/plain": [
       "(541910, 8)"
      ]
     },
     "execution_count": 32,
     "metadata": {},
     "output_type": "execute_result"
    }
   ],
   "source": [
    "data.shape"
   ]
  },
  {
   "cell_type": "markdown",
   "id": "6c41967a",
   "metadata": {},
   "source": [
    "### Data Preprocessing and Cleaning Part"
   ]
  },
  {
   "cell_type": "code",
   "execution_count": 33,
   "id": "921c0081",
   "metadata": {},
   "outputs": [],
   "source": [
    "def outlier_threshold(dataframe, variable):\n",
    "    q1 = dataframe[variable].quantile(0.01)\n",
    "    q3 = dataframe[variable].quantile(0.99)\n",
    "    iqr = q3 - q1\n",
    "    multiplier = 1.5\n",
    "\n",
    "    upper_limit = q3 + (multiplier * iqr)\n",
    "    lower_limit = q1 - (multiplier * iqr)\n",
    "\n",
    "    return lower_limit, upper_limit\n"
   ]
  },
  {
   "cell_type": "markdown",
   "id": "3ecfd99f",
   "metadata": {},
   "source": [
    "In the above code we calculates the lower and upper limits for outliers based on the 1st percentile (q1) and 99th percentile (q3) of the variable's values. The interquartile range (iqr) is computed as the difference between q3 and q1. The multiplier factor of 1.5 is then applied to the iqr to determine the threshold range. Finally, the lower and upper limits are returned as a tuple."
   ]
  },
  {
   "cell_type": "code",
   "execution_count": 34,
   "id": "b75d0c1e",
   "metadata": {},
   "outputs": [],
   "source": [
    "def replace_with_threshold(dataframe, variable):\n",
    "    low_limit, up_limit = outlier_threshold(dataframe, variable)\n",
    "    dataframe.loc[dataframe[variable] < low_limit, variable] = low_limit\n",
    "    dataframe.loc[dataframe[variable] > up_limit, variable] = up_limit"
   ]
  },
  {
   "cell_type": "markdown",
   "id": "c575c19a",
   "metadata": {},
   "source": [
    "In the above code,  the function first obtains the lower and upper limits using the outlier_threshold function. Then, it replaces the values in the variable column that are below the low_limit with the low_limit value using the loc accessor. Similarly, it replaces the values above the up_limit with the up_limit value. The modifications are made directly in the DataFrame."
   ]
  },
  {
   "cell_type": "code",
   "execution_count": 35,
   "id": "5926f541",
   "metadata": {},
   "outputs": [],
   "source": [
    "def retail_data_prep(dataframe):\n",
    "    dataframe = dataframe[~(dataframe['StockCode'] == 'POST')]\n",
    "    dataframe = dataframe.dropna()\n",
    "    dataframe = dataframe[~(dataframe['Invoice'].str.contains('C', na=False))]\n",
    "    dataframe = dataframe[dataframe['Price'] > 0]\n",
    "\n",
    "    replace_with_threshold(dataframe, 'Price')\n",
    "    replace_with_threshold(dataframe, 'Quantity')\n",
    "\n",
    "    return dataframe"
   ]
  },
  {
   "cell_type": "markdown",
   "id": "5c5b92ef",
   "metadata": {},
   "source": [
    "In the above code,  the function removes rows where the StockCode column contains the value 'POST'. It then drops rows with missing values using dropna(). Next, it removes rows where the 'Invoice' column contains the letter 'C', indicating canceled invoices. After that, it filters out rows where the 'Price' column is less than or equal to 0.\n",
    "\n",
    "Finally, it applies the replace_with_threshold function to handle outliers for the 'Price' and 'Quantity' columns. The modified DataFrame is returned at the end of the function."
   ]
  },
  {
   "cell_type": "code",
   "execution_count": 36,
   "id": "57c92faf",
   "metadata": {},
   "outputs": [],
   "source": [
    "df = retail_data_prep(df)"
   ]
  },
  {
   "cell_type": "markdown",
   "id": "a7e16bfd",
   "metadata": {},
   "source": [
    "\"df\", is the modified DataFrame for the further process"
   ]
  },
  {
   "cell_type": "code",
   "execution_count": 37,
   "id": "21032664",
   "metadata": {},
   "outputs": [
    {
     "data": {
      "text/html": [
       "<div>\n",
       "<style scoped>\n",
       "    .dataframe tbody tr th:only-of-type {\n",
       "        vertical-align: middle;\n",
       "    }\n",
       "\n",
       "    .dataframe tbody tr th {\n",
       "        vertical-align: top;\n",
       "    }\n",
       "\n",
       "    .dataframe thead th {\n",
       "        text-align: right;\n",
       "    }\n",
       "</style>\n",
       "<table border=\"1\" class=\"dataframe\">\n",
       "  <thead>\n",
       "    <tr style=\"text-align: right;\">\n",
       "      <th></th>\n",
       "      <th>Invoice</th>\n",
       "      <th>StockCode</th>\n",
       "      <th>Description</th>\n",
       "      <th>Quantity</th>\n",
       "      <th>InvoiceDate</th>\n",
       "      <th>Price</th>\n",
       "      <th>Customer ID</th>\n",
       "      <th>Country</th>\n",
       "    </tr>\n",
       "  </thead>\n",
       "  <tbody>\n",
       "    <tr>\n",
       "      <th>0</th>\n",
       "      <td>536365</td>\n",
       "      <td>85123A</td>\n",
       "      <td>WHITE HANGING HEART T-LIGHT HOLDER</td>\n",
       "      <td>6.0</td>\n",
       "      <td>2010-12-01 08:26:00</td>\n",
       "      <td>2.55</td>\n",
       "      <td>17850.0</td>\n",
       "      <td>United Kingdom</td>\n",
       "    </tr>\n",
       "    <tr>\n",
       "      <th>1</th>\n",
       "      <td>536365</td>\n",
       "      <td>71053</td>\n",
       "      <td>WHITE METAL LANTERN</td>\n",
       "      <td>6.0</td>\n",
       "      <td>2010-12-01 08:26:00</td>\n",
       "      <td>3.39</td>\n",
       "      <td>17850.0</td>\n",
       "      <td>United Kingdom</td>\n",
       "    </tr>\n",
       "    <tr>\n",
       "      <th>2</th>\n",
       "      <td>536365</td>\n",
       "      <td>84406B</td>\n",
       "      <td>CREAM CUPID HEARTS COAT HANGER</td>\n",
       "      <td>8.0</td>\n",
       "      <td>2010-12-01 08:26:00</td>\n",
       "      <td>2.75</td>\n",
       "      <td>17850.0</td>\n",
       "      <td>United Kingdom</td>\n",
       "    </tr>\n",
       "    <tr>\n",
       "      <th>3</th>\n",
       "      <td>536365</td>\n",
       "      <td>84029G</td>\n",
       "      <td>KNITTED UNION FLAG HOT WATER BOTTLE</td>\n",
       "      <td>6.0</td>\n",
       "      <td>2010-12-01 08:26:00</td>\n",
       "      <td>3.39</td>\n",
       "      <td>17850.0</td>\n",
       "      <td>United Kingdom</td>\n",
       "    </tr>\n",
       "    <tr>\n",
       "      <th>4</th>\n",
       "      <td>536365</td>\n",
       "      <td>84029E</td>\n",
       "      <td>RED WOOLLY HOTTIE WHITE HEART.</td>\n",
       "      <td>6.0</td>\n",
       "      <td>2010-12-01 08:26:00</td>\n",
       "      <td>3.39</td>\n",
       "      <td>17850.0</td>\n",
       "      <td>United Kingdom</td>\n",
       "    </tr>\n",
       "  </tbody>\n",
       "</table>\n",
       "</div>"
      ],
      "text/plain": [
       "  Invoice StockCode                          Description  Quantity         InvoiceDate  Price  Customer ID         Country\n",
       "0  536365    85123A   WHITE HANGING HEART T-LIGHT HOLDER       6.0 2010-12-01 08:26:00   2.55      17850.0  United Kingdom\n",
       "1  536365     71053                  WHITE METAL LANTERN       6.0 2010-12-01 08:26:00   3.39      17850.0  United Kingdom\n",
       "2  536365    84406B       CREAM CUPID HEARTS COAT HANGER       8.0 2010-12-01 08:26:00   2.75      17850.0  United Kingdom\n",
       "3  536365    84029G  KNITTED UNION FLAG HOT WATER BOTTLE       6.0 2010-12-01 08:26:00   3.39      17850.0  United Kingdom\n",
       "4  536365    84029E       RED WOOLLY HOTTIE WHITE HEART.       6.0 2010-12-01 08:26:00   3.39      17850.0  United Kingdom"
      ]
     },
     "execution_count": 37,
     "metadata": {},
     "output_type": "execute_result"
    }
   ],
   "source": [
    "df.head()"
   ]
  },
  {
   "cell_type": "code",
   "execution_count": 38,
   "id": "5e8e7363",
   "metadata": {},
   "outputs": [
    {
     "name": "stdout",
     "output_type": "stream",
     "text": [
      "<class 'pandas.core.frame.DataFrame'>\n",
      "Int64Index: 528978 entries, 0 to 541908\n",
      "Data columns (total 8 columns):\n",
      " #   Column       Non-Null Count   Dtype         \n",
      "---  ------       --------------   -----         \n",
      " 0   Invoice      528978 non-null  object        \n",
      " 1   StockCode    528978 non-null  object        \n",
      " 2   Description  528978 non-null  object        \n",
      " 3   Quantity     528978 non-null  float64       \n",
      " 4   InvoiceDate  528978 non-null  datetime64[ns]\n",
      " 5   Price        528978 non-null  float64       \n",
      " 6   Customer ID  528978 non-null  float64       \n",
      " 7   Country      528978 non-null  object        \n",
      "dtypes: datetime64[ns](1), float64(3), object(4)\n",
      "memory usage: 36.3+ MB\n"
     ]
    }
   ],
   "source": [
    "# using info() function in pandas, we can find the cruecial information related to the dataset like summary of whole\n",
    "# dataset exmpl: columns name, their counts, their datatypes etc.\n",
    "df.info()"
   ]
  },
  {
   "cell_type": "code",
   "execution_count": 39,
   "id": "4280956d",
   "metadata": {},
   "outputs": [
    {
     "data": {
      "text/plain": [
       "(528978, 8)"
      ]
     },
     "execution_count": 39,
     "metadata": {},
     "output_type": "execute_result"
    }
   ],
   "source": [
    "df.shape  #it tells the number of rows and columns in the dataset"
   ]
  },
  {
   "cell_type": "code",
   "execution_count": 40,
   "id": "b1bf6e28",
   "metadata": {},
   "outputs": [
    {
     "data": {
      "text/plain": [
       "Invoice        0\n",
       "StockCode      0\n",
       "Description    0\n",
       "Quantity       0\n",
       "InvoiceDate    0\n",
       "Price          0\n",
       "Customer ID    0\n",
       "Country        0\n",
       "dtype: int64"
      ]
     },
     "execution_count": 40,
     "metadata": {},
     "output_type": "execute_result"
    }
   ],
   "source": [
    "df.isna().sum() #this function used to find if there are missing values of NaN values in the dataset"
   ]
  },
  {
   "cell_type": "code",
   "execution_count": 41,
   "id": "66f993f2",
   "metadata": {},
   "outputs": [
    {
     "data": {
      "text/plain": [
       "Index(['Invoice', 'StockCode', 'Description', 'Quantity', 'InvoiceDate', 'Price', 'Customer ID', 'Country'], dtype='object')"
      ]
     },
     "execution_count": 41,
     "metadata": {},
     "output_type": "execute_result"
    }
   ],
   "source": [
    "df.columns"
   ]
  },
  {
   "cell_type": "code",
   "execution_count": 42,
   "id": "804654b7",
   "metadata": {},
   "outputs": [],
   "source": [
    "# df1 for ploting the plot to see the relationship between the features of the data"
   ]
  },
  {
   "cell_type": "code",
   "execution_count": 43,
   "id": "d8e0258c",
   "metadata": {},
   "outputs": [],
   "source": [
    "df1 = df[['Quantity', 'InvoiceDate', 'Price', 'Customer ID']]"
   ]
  },
  {
   "cell_type": "code",
   "execution_count": 44,
   "id": "c0f35009",
   "metadata": {},
   "outputs": [
    {
     "data": {
      "text/html": [
       "<div>\n",
       "<style scoped>\n",
       "    .dataframe tbody tr th:only-of-type {\n",
       "        vertical-align: middle;\n",
       "    }\n",
       "\n",
       "    .dataframe tbody tr th {\n",
       "        vertical-align: top;\n",
       "    }\n",
       "\n",
       "    .dataframe thead th {\n",
       "        text-align: right;\n",
       "    }\n",
       "</style>\n",
       "<table border=\"1\" class=\"dataframe\">\n",
       "  <thead>\n",
       "    <tr style=\"text-align: right;\">\n",
       "      <th></th>\n",
       "      <th>Quantity</th>\n",
       "      <th>InvoiceDate</th>\n",
       "      <th>Price</th>\n",
       "      <th>Customer ID</th>\n",
       "    </tr>\n",
       "  </thead>\n",
       "  <tbody>\n",
       "    <tr>\n",
       "      <th>0</th>\n",
       "      <td>6.0</td>\n",
       "      <td>2010-12-01 08:26:00</td>\n",
       "      <td>2.55</td>\n",
       "      <td>17850.0</td>\n",
       "    </tr>\n",
       "    <tr>\n",
       "      <th>1</th>\n",
       "      <td>6.0</td>\n",
       "      <td>2010-12-01 08:26:00</td>\n",
       "      <td>3.39</td>\n",
       "      <td>17850.0</td>\n",
       "    </tr>\n",
       "    <tr>\n",
       "      <th>2</th>\n",
       "      <td>8.0</td>\n",
       "      <td>2010-12-01 08:26:00</td>\n",
       "      <td>2.75</td>\n",
       "      <td>17850.0</td>\n",
       "    </tr>\n",
       "    <tr>\n",
       "      <th>3</th>\n",
       "      <td>6.0</td>\n",
       "      <td>2010-12-01 08:26:00</td>\n",
       "      <td>3.39</td>\n",
       "      <td>17850.0</td>\n",
       "    </tr>\n",
       "    <tr>\n",
       "      <th>4</th>\n",
       "      <td>6.0</td>\n",
       "      <td>2010-12-01 08:26:00</td>\n",
       "      <td>3.39</td>\n",
       "      <td>17850.0</td>\n",
       "    </tr>\n",
       "  </tbody>\n",
       "</table>\n",
       "</div>"
      ],
      "text/plain": [
       "   Quantity         InvoiceDate  Price  Customer ID\n",
       "0       6.0 2010-12-01 08:26:00   2.55      17850.0\n",
       "1       6.0 2010-12-01 08:26:00   3.39      17850.0\n",
       "2       8.0 2010-12-01 08:26:00   2.75      17850.0\n",
       "3       6.0 2010-12-01 08:26:00   3.39      17850.0\n",
       "4       6.0 2010-12-01 08:26:00   3.39      17850.0"
      ]
     },
     "execution_count": 44,
     "metadata": {},
     "output_type": "execute_result"
    }
   ],
   "source": [
    "df1.head()"
   ]
  },
  {
   "cell_type": "code",
   "execution_count": 45,
   "id": "0e09beba",
   "metadata": {},
   "outputs": [],
   "source": [
    "# df1.plot()\n",
    "import seaborn as sns"
   ]
  },
  {
   "cell_type": "markdown",
   "id": "9eb91045",
   "metadata": {},
   "source": [
    "After data cleaning process we are seeing the unique values for further analysis"
   ]
  },
  {
   "cell_type": "code",
   "execution_count": 46,
   "id": "411c8214",
   "metadata": {},
   "outputs": [
    {
     "data": {
      "text/plain": [
       "4344"
      ]
     },
     "execution_count": 46,
     "metadata": {},
     "output_type": "execute_result"
    }
   ],
   "source": [
    "df['Customer ID'].nunique()"
   ]
  },
  {
   "cell_type": "code",
   "execution_count": 47,
   "id": "2591f2fe",
   "metadata": {},
   "outputs": [
    {
     "data": {
      "text/plain": [
       "array(['WHITE HANGING HEART T-LIGHT HOLDER', 'WHITE METAL LANTERN',\n",
       "       'CREAM CUPID HEARTS COAT HANGER', ..., 'LETTER \"U\" BLING KEY RING',\n",
       "       'CREAM HANGING HEART T-LIGHT HOLDER',\n",
       "       'PAPER CRAFT , LITTLE BIRDIE'], dtype=object)"
      ]
     },
     "execution_count": 47,
     "metadata": {},
     "output_type": "execute_result"
    }
   ],
   "source": [
    "df['Description'].unique()"
   ]
  },
  {
   "cell_type": "code",
   "execution_count": 48,
   "id": "67df8f55",
   "metadata": {},
   "outputs": [
    {
     "data": {
      "text/plain": [
       "4025"
      ]
     },
     "execution_count": 48,
     "metadata": {},
     "output_type": "execute_result"
    }
   ],
   "source": [
    "df['Description'].nunique()"
   ]
  },
  {
   "cell_type": "code",
   "execution_count": 49,
   "id": "6417ef78",
   "metadata": {},
   "outputs": [
    {
     "data": {
      "text/plain": [
       "203"
      ]
     },
     "execution_count": 49,
     "metadata": {},
     "output_type": "execute_result"
    }
   ],
   "source": [
    "df['Quantity'].nunique()"
   ]
  },
  {
   "cell_type": "code",
   "execution_count": 50,
   "id": "110edfd3",
   "metadata": {},
   "outputs": [
    {
     "data": {
      "text/html": [
       "<div>\n",
       "<style scoped>\n",
       "    .dataframe tbody tr th:only-of-type {\n",
       "        vertical-align: middle;\n",
       "    }\n",
       "\n",
       "    .dataframe tbody tr th {\n",
       "        vertical-align: top;\n",
       "    }\n",
       "\n",
       "    .dataframe thead th {\n",
       "        text-align: right;\n",
       "    }\n",
       "</style>\n",
       "<table border=\"1\" class=\"dataframe\">\n",
       "  <thead>\n",
       "    <tr style=\"text-align: right;\">\n",
       "      <th></th>\n",
       "      <th>Quantity</th>\n",
       "      <th>Price</th>\n",
       "      <th>Customer ID</th>\n",
       "    </tr>\n",
       "  </thead>\n",
       "  <tbody>\n",
       "    <tr>\n",
       "      <th>count</th>\n",
       "      <td>528978.000000</td>\n",
       "      <td>528978.000000</td>\n",
       "      <td>528978.000000</td>\n",
       "    </tr>\n",
       "    <tr>\n",
       "      <th>mean</th>\n",
       "      <td>9.565831</td>\n",
       "      <td>3.301532</td>\n",
       "      <td>15304.332154</td>\n",
       "    </tr>\n",
       "    <tr>\n",
       "      <th>std</th>\n",
       "      <td>21.535507</td>\n",
       "      <td>3.824420</td>\n",
       "      <td>1718.337533</td>\n",
       "    </tr>\n",
       "    <tr>\n",
       "      <th>min</th>\n",
       "      <td>1.000000</td>\n",
       "      <td>0.001000</td>\n",
       "      <td>12346.000000</td>\n",
       "    </tr>\n",
       "    <tr>\n",
       "      <th>25%</th>\n",
       "      <td>1.000000</td>\n",
       "      <td>1.250000</td>\n",
       "      <td>13969.000000</td>\n",
       "    </tr>\n",
       "    <tr>\n",
       "      <th>50%</th>\n",
       "      <td>3.000000</td>\n",
       "      <td>2.080000</td>\n",
       "      <td>15163.000000</td>\n",
       "    </tr>\n",
       "    <tr>\n",
       "      <th>75%</th>\n",
       "      <td>10.000000</td>\n",
       "      <td>4.130000</td>\n",
       "      <td>16809.000000</td>\n",
       "    </tr>\n",
       "    <tr>\n",
       "      <th>max</th>\n",
       "      <td>248.500000</td>\n",
       "      <td>41.940000</td>\n",
       "      <td>18287.000000</td>\n",
       "    </tr>\n",
       "  </tbody>\n",
       "</table>\n",
       "</div>"
      ],
      "text/plain": [
       "            Quantity          Price    Customer ID\n",
       "count  528978.000000  528978.000000  528978.000000\n",
       "mean        9.565831       3.301532   15304.332154\n",
       "std        21.535507       3.824420    1718.337533\n",
       "min         1.000000       0.001000   12346.000000\n",
       "25%         1.000000       1.250000   13969.000000\n",
       "50%         3.000000       2.080000   15163.000000\n",
       "75%        10.000000       4.130000   16809.000000\n",
       "max       248.500000      41.940000   18287.000000"
      ]
     },
     "execution_count": 50,
     "metadata": {},
     "output_type": "execute_result"
    }
   ],
   "source": [
    "df.describe()"
   ]
  },
  {
   "cell_type": "markdown",
   "id": "e9f459cb",
   "metadata": {},
   "source": [
    "### Data Visualization Process to get some insight\n",
    "\n",
    "1. Histogram\n",
    "* A histogram can help you understand the distribution of numerical variables like Quantity or Price. This will allow you to observe patterns in the data and identify any outliers or unusual behavior."
   ]
  },
  {
   "cell_type": "code",
   "execution_count": 51,
   "id": "947f967b",
   "metadata": {},
   "outputs": [
    {
     "data": {
      "image/png": "[encoded data removed]",
      "text/plain": [
       "<Figure size 800x500 with 1 Axes>"
      ]
     },
     "metadata": {},
     "output_type": "display_data"
    }
   ],
   "source": [
    "#the distribution of numerical variables like Quantity or Price\n",
    "variable = 'Price'\n",
    "\n",
    "# Created the histogram\n",
    "plt.figure(figsize=(8, 5))\n",
    "plt.hist(df[variable], bins=30, edgecolor='black')\n",
    "\n",
    "plt.title('Histogram of ' + variable)\n",
    "plt.xlabel(variable)\n",
    "plt.ylabel('Frequency')\n",
    "plt.grid(True)\n",
    "plt.show()"
   ]
  },
  {
   "cell_type": "code",
   "execution_count": 52,
   "id": "084e0fe5",
   "metadata": {},
   "outputs": [
    {
     "data": {
      "image/png": "[encoded data removed]",
      "text/plain": [
       "<Figure size 800x500 with 1 Axes>"
      ]
     },
     "metadata": {},
     "output_type": "display_data"
    }
   ],
   "source": [
    "variable = 'Quantity'\n",
    "\n",
    "# Created the histogram\n",
    "plt.figure(figsize=(8, 5))\n",
    "plt.hist(df[variable], bins=30, edgecolor='black')\n",
    "\n",
    "plt.title('Histogram of ' + variable)\n",
    "plt.xlabel(variable)\n",
    "plt.ylabel('Frequency')\n",
    "plt.grid(True)\n",
    "plt.show()"
   ]
  },
  {
   "cell_type": "markdown",
   "id": "73565ca8",
   "metadata": {},
   "source": [
    "2. Scatter Plot between Quantity vs Price to see the behavour of intms over price"
   ]
  },
  {
   "cell_type": "code",
   "execution_count": 53,
   "id": "375df6bf",
   "metadata": {},
   "outputs": [
    {
     "data": {
      "image/png": "[encoded data removed]",
      "text/plain": [
       "<Figure size 800x400 with 1 Axes>"
      ]
     },
     "metadata": {},
     "output_type": "display_data"
    }
   ],
   "source": [
    "# scatter plot to see the replationship between quantity and price of the items\n",
    "x = 'Quantity'  \n",
    "y = 'Price'  \n",
    "\n",
    "# Creating the scatter plot\n",
    "plt.figure(figsize=(8, 4))\n",
    "plt.scatter(df[x], df[y])\n",
    "\n",
    "plt.title('Scatter Plot: ' + x + ' vs ' + y)\n",
    "plt.xlabel(x)\n",
    "plt.ylabel(y)\n",
    "plt.grid(True)\n",
    "\n",
    "# to display the plot\n",
    "plt.show()"
   ]
  },
  {
   "cell_type": "code",
   "execution_count": 54,
   "id": "364e27a9",
   "metadata": {
    "scrolled": true
   },
   "outputs": [
    {
     "data": {
      "text/html": [
       "<div>\n",
       "<style scoped>\n",
       "    .dataframe tbody tr th:only-of-type {\n",
       "        vertical-align: middle;\n",
       "    }\n",
       "\n",
       "    .dataframe tbody tr th {\n",
       "        vertical-align: top;\n",
       "    }\n",
       "\n",
       "    .dataframe thead th {\n",
       "        text-align: right;\n",
       "    }\n",
       "</style>\n",
       "<table border=\"1\" class=\"dataframe\">\n",
       "  <thead>\n",
       "    <tr style=\"text-align: right;\">\n",
       "      <th></th>\n",
       "      <th>Invoice</th>\n",
       "      <th>StockCode</th>\n",
       "      <th>Description</th>\n",
       "      <th>Quantity</th>\n",
       "      <th>InvoiceDate</th>\n",
       "      <th>Price</th>\n",
       "      <th>Customer ID</th>\n",
       "      <th>Country</th>\n",
       "    </tr>\n",
       "  </thead>\n",
       "  <tbody>\n",
       "    <tr>\n",
       "      <th>0</th>\n",
       "      <td>536365</td>\n",
       "      <td>85123A</td>\n",
       "      <td>WHITE HANGING HEART T-LIGHT HOLDER</td>\n",
       "      <td>6.0</td>\n",
       "      <td>2010-12-01 08:26:00</td>\n",
       "      <td>2.55</td>\n",
       "      <td>17850.0</td>\n",
       "      <td>United Kingdom</td>\n",
       "    </tr>\n",
       "    <tr>\n",
       "      <th>1</th>\n",
       "      <td>536365</td>\n",
       "      <td>71053</td>\n",
       "      <td>WHITE METAL LANTERN</td>\n",
       "      <td>6.0</td>\n",
       "      <td>2010-12-01 08:26:00</td>\n",
       "      <td>3.39</td>\n",
       "      <td>17850.0</td>\n",
       "      <td>United Kingdom</td>\n",
       "    </tr>\n",
       "    <tr>\n",
       "      <th>2</th>\n",
       "      <td>536365</td>\n",
       "      <td>84406B</td>\n",
       "      <td>CREAM CUPID HEARTS COAT HANGER</td>\n",
       "      <td>8.0</td>\n",
       "      <td>2010-12-01 08:26:00</td>\n",
       "      <td>2.75</td>\n",
       "      <td>17850.0</td>\n",
       "      <td>United Kingdom</td>\n",
       "    </tr>\n",
       "    <tr>\n",
       "      <th>3</th>\n",
       "      <td>536365</td>\n",
       "      <td>84029G</td>\n",
       "      <td>KNITTED UNION FLAG HOT WATER BOTTLE</td>\n",
       "      <td>6.0</td>\n",
       "      <td>2010-12-01 08:26:00</td>\n",
       "      <td>3.39</td>\n",
       "      <td>17850.0</td>\n",
       "      <td>United Kingdom</td>\n",
       "    </tr>\n",
       "    <tr>\n",
       "      <th>4</th>\n",
       "      <td>536365</td>\n",
       "      <td>84029E</td>\n",
       "      <td>RED WOOLLY HOTTIE WHITE HEART.</td>\n",
       "      <td>6.0</td>\n",
       "      <td>2010-12-01 08:26:00</td>\n",
       "      <td>3.39</td>\n",
       "      <td>17850.0</td>\n",
       "      <td>United Kingdom</td>\n",
       "    </tr>\n",
       "  </tbody>\n",
       "</table>\n",
       "</div>"
      ],
      "text/plain": [
       "  Invoice StockCode                          Description  Quantity         InvoiceDate  Price  Customer ID         Country\n",
       "0  536365    85123A   WHITE HANGING HEART T-LIGHT HOLDER       6.0 2010-12-01 08:26:00   2.55      17850.0  United Kingdom\n",
       "1  536365     71053                  WHITE METAL LANTERN       6.0 2010-12-01 08:26:00   3.39      17850.0  United Kingdom\n",
       "2  536365    84406B       CREAM CUPID HEARTS COAT HANGER       8.0 2010-12-01 08:26:00   2.75      17850.0  United Kingdom\n",
       "3  536365    84029G  KNITTED UNION FLAG HOT WATER BOTTLE       6.0 2010-12-01 08:26:00   3.39      17850.0  United Kingdom\n",
       "4  536365    84029E       RED WOOLLY HOTTIE WHITE HEART.       6.0 2010-12-01 08:26:00   3.39      17850.0  United Kingdom"
      ]
     },
     "execution_count": 54,
     "metadata": {},
     "output_type": "execute_result"
    }
   ],
   "source": [
    "# df.info()\n",
    "df.head()"
   ]
  },
  {
   "cell_type": "code",
   "execution_count": 55,
   "id": "fc01b583",
   "metadata": {},
   "outputs": [],
   "source": [
    "# time series visualization on Price of items during time like monthly, yearly, daily etc.\n",
    "df.set_index('InvoiceDate', inplace=True)"
   ]
  },
  {
   "cell_type": "code",
   "execution_count": 56,
   "id": "dbcfe28c",
   "metadata": {},
   "outputs": [
    {
     "name": "stderr",
     "output_type": "stream",
     "text": [
      "/var/folders/d_/khm1wzzs6xj6gk54p5gns4780000gn/T/ipykernel_11223/3641262302.py:2: FutureWarning: The default value of numeric_only in DataFrameGroupBy.sum is deprecated. In a future version, numeric_only will default to False. Either specify numeric_only or select only columns which should be valid for the function.\n",
      "  resampled_data = df.resample('M').sum()\n"
     ]
    },
    {
     "data": {
      "image/png": "[encoded data removed]",
      "text/plain": [
       "<Figure size 600x300 with 1 Axes>"
      ]
     },
     "metadata": {},
     "output_type": "display_data"
    }
   ],
   "source": [
    "# Resampling the data by a specific time period, e.g., monthly or daily\n",
    "resampled_data = df.resample('M').sum()\n",
    "# Create the time series plot\n",
    "plt.figure(figsize=(6, 3))\n",
    "plt.plot(resampled_data.index, resampled_data['Price'])\n",
    "# Customize the plot\n",
    "plt.title('Monthly Sales Trend')\n",
    "plt.xlabel('Date')\n",
    "plt.ylabel('Sales')\n",
    "plt.grid(True)\n",
    "plt.show()"
   ]
  },
  {
   "cell_type": "code",
   "execution_count": 57,
   "id": "e94814c3",
   "metadata": {},
   "outputs": [
    {
     "data": {
      "text/html": [
       "<div>\n",
       "<style scoped>\n",
       "    .dataframe tbody tr th:only-of-type {\n",
       "        vertical-align: middle;\n",
       "    }\n",
       "\n",
       "    .dataframe tbody tr th {\n",
       "        vertical-align: top;\n",
       "    }\n",
       "\n",
       "    .dataframe thead th {\n",
       "        text-align: right;\n",
       "    }\n",
       "</style>\n",
       "<table border=\"1\" class=\"dataframe\">\n",
       "  <thead>\n",
       "    <tr style=\"text-align: right;\">\n",
       "      <th></th>\n",
       "      <th>InvoiceDate</th>\n",
       "      <th>Invoice</th>\n",
       "      <th>StockCode</th>\n",
       "      <th>Description</th>\n",
       "      <th>Quantity</th>\n",
       "      <th>Price</th>\n",
       "      <th>Customer ID</th>\n",
       "      <th>Country</th>\n",
       "    </tr>\n",
       "  </thead>\n",
       "  <tbody>\n",
       "    <tr>\n",
       "      <th>0</th>\n",
       "      <td>2010-12-01 08:26:00</td>\n",
       "      <td>536365</td>\n",
       "      <td>85123A</td>\n",
       "      <td>WHITE HANGING HEART T-LIGHT HOLDER</td>\n",
       "      <td>6.0</td>\n",
       "      <td>2.55</td>\n",
       "      <td>17850.0</td>\n",
       "      <td>United Kingdom</td>\n",
       "    </tr>\n",
       "    <tr>\n",
       "      <th>1</th>\n",
       "      <td>2010-12-01 08:26:00</td>\n",
       "      <td>536365</td>\n",
       "      <td>71053</td>\n",
       "      <td>WHITE METAL LANTERN</td>\n",
       "      <td>6.0</td>\n",
       "      <td>3.39</td>\n",
       "      <td>17850.0</td>\n",
       "      <td>United Kingdom</td>\n",
       "    </tr>\n",
       "    <tr>\n",
       "      <th>2</th>\n",
       "      <td>2010-12-01 08:26:00</td>\n",
       "      <td>536365</td>\n",
       "      <td>84406B</td>\n",
       "      <td>CREAM CUPID HEARTS COAT HANGER</td>\n",
       "      <td>8.0</td>\n",
       "      <td>2.75</td>\n",
       "      <td>17850.0</td>\n",
       "      <td>United Kingdom</td>\n",
       "    </tr>\n",
       "    <tr>\n",
       "      <th>3</th>\n",
       "      <td>2010-12-01 08:26:00</td>\n",
       "      <td>536365</td>\n",
       "      <td>84029G</td>\n",
       "      <td>KNITTED UNION FLAG HOT WATER BOTTLE</td>\n",
       "      <td>6.0</td>\n",
       "      <td>3.39</td>\n",
       "      <td>17850.0</td>\n",
       "      <td>United Kingdom</td>\n",
       "    </tr>\n",
       "    <tr>\n",
       "      <th>4</th>\n",
       "      <td>2010-12-01 08:26:00</td>\n",
       "      <td>536365</td>\n",
       "      <td>84029E</td>\n",
       "      <td>RED WOOLLY HOTTIE WHITE HEART.</td>\n",
       "      <td>6.0</td>\n",
       "      <td>3.39</td>\n",
       "      <td>17850.0</td>\n",
       "      <td>United Kingdom</td>\n",
       "    </tr>\n",
       "    <tr>\n",
       "      <th>...</th>\n",
       "      <td>...</td>\n",
       "      <td>...</td>\n",
       "      <td>...</td>\n",
       "      <td>...</td>\n",
       "      <td>...</td>\n",
       "      <td>...</td>\n",
       "      <td>...</td>\n",
       "      <td>...</td>\n",
       "    </tr>\n",
       "    <tr>\n",
       "      <th>528973</th>\n",
       "      <td>2011-12-09 12:50:00</td>\n",
       "      <td>581587</td>\n",
       "      <td>22613</td>\n",
       "      <td>PACK OF 20 SPACEBOY NAPKINS</td>\n",
       "      <td>12.0</td>\n",
       "      <td>0.85</td>\n",
       "      <td>12680.0</td>\n",
       "      <td>France</td>\n",
       "    </tr>\n",
       "    <tr>\n",
       "      <th>528974</th>\n",
       "      <td>2011-12-09 12:50:00</td>\n",
       "      <td>581587</td>\n",
       "      <td>22899</td>\n",
       "      <td>CHILDREN'S APRON DOLLY GIRL</td>\n",
       "      <td>6.0</td>\n",
       "      <td>2.10</td>\n",
       "      <td>12680.0</td>\n",
       "      <td>France</td>\n",
       "    </tr>\n",
       "    <tr>\n",
       "      <th>528975</th>\n",
       "      <td>2011-12-09 12:50:00</td>\n",
       "      <td>581587</td>\n",
       "      <td>23254</td>\n",
       "      <td>CHILDRENS CUTLERY DOLLY GIRL</td>\n",
       "      <td>4.0</td>\n",
       "      <td>4.15</td>\n",
       "      <td>12680.0</td>\n",
       "      <td>France</td>\n",
       "    </tr>\n",
       "    <tr>\n",
       "      <th>528976</th>\n",
       "      <td>2011-12-09 12:50:00</td>\n",
       "      <td>581587</td>\n",
       "      <td>23255</td>\n",
       "      <td>CHILDRENS CUTLERY CIRCUS PARADE</td>\n",
       "      <td>4.0</td>\n",
       "      <td>4.15</td>\n",
       "      <td>12680.0</td>\n",
       "      <td>France</td>\n",
       "    </tr>\n",
       "    <tr>\n",
       "      <th>528977</th>\n",
       "      <td>2011-12-09 12:50:00</td>\n",
       "      <td>581587</td>\n",
       "      <td>22138</td>\n",
       "      <td>BAKING SET 9 PIECE RETROSPOT</td>\n",
       "      <td>3.0</td>\n",
       "      <td>4.95</td>\n",
       "      <td>12680.0</td>\n",
       "      <td>France</td>\n",
       "    </tr>\n",
       "  </tbody>\n",
       "</table>\n",
       "<p>528978 rows × 8 columns</p>\n",
       "</div>"
      ],
      "text/plain": [
       "               InvoiceDate Invoice StockCode                          Description  Quantity  Price  Customer ID         Country\n",
       "0      2010-12-01 08:26:00  536365    85123A   WHITE HANGING HEART T-LIGHT HOLDER       6.0   2.55      17850.0  United Kingdom\n",
       "1      2010-12-01 08:26:00  536365     71053                  WHITE METAL LANTERN       6.0   3.39      17850.0  United Kingdom\n",
       "2      2010-12-01 08:26:00  536365    84406B       CREAM CUPID HEARTS COAT HANGER       8.0   2.75      17850.0  United Kingdom\n",
       "3      2010-12-01 08:26:00  536365    84029G  KNITTED UNION FLAG HOT WATER BOTTLE       6.0   3.39      17850.0  United Kingdom\n",
       "4      2010-12-01 08:26:00  536365    84029E       RED WOOLLY HOTTIE WHITE HEART.       6.0   3.39      17850.0  United Kingdom\n",
       "...                    ...     ...       ...                                  ...       ...    ...          ...             ...\n",
       "528973 2011-12-09 12:50:00  581587     22613          PACK OF 20 SPACEBOY NAPKINS      12.0   0.85      12680.0          France\n",
       "528974 2011-12-09 12:50:00  581587     22899         CHILDREN'S APRON DOLLY GIRL        6.0   2.10      12680.0          France\n",
       "528975 2011-12-09 12:50:00  581587     23254        CHILDRENS CUTLERY DOLLY GIRL        4.0   4.15      12680.0          France\n",
       "528976 2011-12-09 12:50:00  581587     23255      CHILDRENS CUTLERY CIRCUS PARADE       4.0   4.15      12680.0          France\n",
       "528977 2011-12-09 12:50:00  581587     22138        BAKING SET 9 PIECE RETROSPOT        3.0   4.95      12680.0          France\n",
       "\n",
       "[528978 rows x 8 columns]"
      ]
     },
     "execution_count": 57,
     "metadata": {},
     "output_type": "execute_result"
    }
   ],
   "source": [
    "df.reset_index()"
   ]
  },
  {
   "cell_type": "markdown",
   "id": "7e956e76",
   "metadata": {},
   "source": [
    "### Model Building"
   ]
  },
  {
   "cell_type": "markdown",
   "id": "9d843564",
   "metadata": {},
   "source": [
    "##### Preparing Association Rule Learning Data Structures and Association Rules Analysis\n",
    "##### 1. Apriori Algorithm"
   ]
  },
  {
   "cell_type": "markdown",
   "id": "97e2a26b",
   "metadata": {},
   "source": [
    "Apriori Algorithm is a technique used for market basket analysis, which aims to discover associations between items that are frequently purchased together.\n",
    "\n",
    "Metrics:\n",
    "1) Support(X, Y) = Freq(X, Y) / N\n",
    "\n",
    "Support measures the probability of the co-occurrence of items X and Y in the transactions. It is calculated by dividing the frequency of transactions containing both X and Y by the total number of transactions.\n",
    "\n",
    "2) Confidence(X, Y) = Freq(X, Y) / Freq(X)\n",
    "\n",
    "Confidence measures the conditional probability of item Y being purchased given that item X is already purchased. It is calculated by dividing the frequency of transactions containing both X and Y by the frequency of transactions containing X.\n",
    "\n",
    "3) Lift = Support(X, Y) / (Support(X) * Support(Y))\n",
    "\n",
    "Lift quantifies the strength of the association between items X and Y. It compares the observed support of X and Y occurring together to what would be expected if X and Y were statistically independent. A lift value greater than 1 indicates a positive association, meaning the occurrence of item X increases the likelihood of item Y being purchased.\n",
    "\n",
    "These metrics help in identifying meaningful associations between items in a dataset. By analyzing support, confidence, and lift values, one can uncover item associations that can be utilized for various purposes such as targeted marketing, product placement, or recommendation systems.\n",
    "\n",
    "* Generally, association rules are written in “IF-THEN” format. We can also use the term “Antecedent” for IF (LHS) and “Consequent” for THEN (RHS)"
   ]
  },
  {
   "cell_type": "code",
   "execution_count": 58,
   "id": "908f8f37",
   "metadata": {},
   "outputs": [],
   "source": [
    "def create_invoice_product_df(dataframe, id=False):\n",
    "    if id:\n",
    "        return dataframe.groupby(['Invoice', 'StockCode'])['Quantity'].sum().unstack().fillna(0).applymap(lambda x: 1 if x > 0 else 0)\n",
    "    else:\n",
    "        return dataframe.groupby(['Invoice', 'Description'])['Quantity'].sum().unstack().fillna(0).applymap(lambda x: 1 if x > 0 else 0)\n",
    "\n",
    "def create_rules(dataframe, id=True, country='Germany'):\n",
    "    dataframe = dataframe[dataframe['Country'] == country]\n",
    "    dataframe = create_invoice_product_df(dataframe, id)\n",
    "    frequent_itemsets = apriori(dataframe, min_support=0.01, use_colnames=True)\n",
    "    rules = association_rules(frequent_itemsets, metric='support', min_threshold=0.01)\n",
    "    return rules"
   ]
  },
  {
   "cell_type": "markdown",
   "id": "9c8794fb",
   "metadata": {},
   "source": [
    "the above code provides a way to generate association rules for product transactions in a given dataframe, filtered by a specific country if desired. The create_invoice_product_df function prepares the data by converting it into a binary representation, and the create_rules function performs association rule mining on the transformed data."
   ]
  },
  {
   "cell_type": "code",
   "execution_count": 59,
   "id": "5729220c",
   "metadata": {},
   "outputs": [
    {
     "name": "stderr",
     "output_type": "stream",
     "text": [
      "/Users/anujkumar/anaconda3/lib/python3.10/site-packages/mlxtend/frequent_patterns/fpcommon.py:110: DeprecationWarning: DataFrames with non-bool types result in worse computationalperformance and their support might be discontinued in the future.Please use a DataFrame with bool type\n",
      "  warnings.warn(\n"
     ]
    }
   ],
   "source": [
    "recom_rules = create_rules(df)"
   ]
  },
  {
   "cell_type": "code",
   "execution_count": 60,
   "id": "5c9c4a27",
   "metadata": {},
   "outputs": [
    {
     "data": {
      "text/html": [
       "<div>\n",
       "<style scoped>\n",
       "    .dataframe tbody tr th:only-of-type {\n",
       "        vertical-align: middle;\n",
       "    }\n",
       "\n",
       "    .dataframe tbody tr th {\n",
       "        vertical-align: top;\n",
       "    }\n",
       "\n",
       "    .dataframe thead th {\n",
       "        text-align: right;\n",
       "    }\n",
       "</style>\n",
       "<table border=\"1\" class=\"dataframe\">\n",
       "  <thead>\n",
       "    <tr style=\"text-align: right;\">\n",
       "      <th></th>\n",
       "      <th>antecedents</th>\n",
       "      <th>consequents</th>\n",
       "      <th>antecedent support</th>\n",
       "      <th>consequent support</th>\n",
       "      <th>support</th>\n",
       "      <th>confidence</th>\n",
       "      <th>lift</th>\n",
       "      <th>leverage</th>\n",
       "      <th>conviction</th>\n",
       "      <th>zhangs_metric</th>\n",
       "    </tr>\n",
       "  </thead>\n",
       "  <tbody>\n",
       "    <tr>\n",
       "      <th>2339</th>\n",
       "      <td>(22326)</td>\n",
       "      <td>(85099B)</td>\n",
       "      <td>0.249443</td>\n",
       "      <td>0.080178</td>\n",
       "      <td>0.017817</td>\n",
       "      <td>0.071429</td>\n",
       "      <td>0.890873</td>\n",
       "      <td>-0.002183</td>\n",
       "      <td>0.990577</td>\n",
       "      <td>-0.140306</td>\n",
       "    </tr>\n",
       "    <tr>\n",
       "      <th>2420</th>\n",
       "      <td>(22328)</td>\n",
       "      <td>(22961)</td>\n",
       "      <td>0.160356</td>\n",
       "      <td>0.093541</td>\n",
       "      <td>0.013363</td>\n",
       "      <td>0.083333</td>\n",
       "      <td>0.890873</td>\n",
       "      <td>-0.001637</td>\n",
       "      <td>0.988864</td>\n",
       "      <td>-0.127315</td>\n",
       "    </tr>\n",
       "    <tr>\n",
       "      <th>2451</th>\n",
       "      <td>(23240)</td>\n",
       "      <td>(22328)</td>\n",
       "      <td>0.077951</td>\n",
       "      <td>0.160356</td>\n",
       "      <td>0.011136</td>\n",
       "      <td>0.142857</td>\n",
       "      <td>0.890873</td>\n",
       "      <td>-0.001364</td>\n",
       "      <td>0.979584</td>\n",
       "      <td>-0.117271</td>\n",
       "    </tr>\n",
       "    <tr>\n",
       "      <th>2338</th>\n",
       "      <td>(85099B)</td>\n",
       "      <td>(22326)</td>\n",
       "      <td>0.080178</td>\n",
       "      <td>0.249443</td>\n",
       "      <td>0.017817</td>\n",
       "      <td>0.222222</td>\n",
       "      <td>0.890873</td>\n",
       "      <td>-0.002183</td>\n",
       "      <td>0.965002</td>\n",
       "      <td>-0.117521</td>\n",
       "    </tr>\n",
       "    <tr>\n",
       "      <th>2421</th>\n",
       "      <td>(22961)</td>\n",
       "      <td>(22328)</td>\n",
       "      <td>0.093541</td>\n",
       "      <td>0.160356</td>\n",
       "      <td>0.013363</td>\n",
       "      <td>0.142857</td>\n",
       "      <td>0.890873</td>\n",
       "      <td>-0.001637</td>\n",
       "      <td>0.979584</td>\n",
       "      <td>-0.119048</td>\n",
       "    </tr>\n",
       "    <tr>\n",
       "      <th>2450</th>\n",
       "      <td>(22328)</td>\n",
       "      <td>(23240)</td>\n",
       "      <td>0.160356</td>\n",
       "      <td>0.077951</td>\n",
       "      <td>0.011136</td>\n",
       "      <td>0.069444</td>\n",
       "      <td>0.890873</td>\n",
       "      <td>-0.001364</td>\n",
       "      <td>0.990859</td>\n",
       "      <td>-0.127315</td>\n",
       "    </tr>\n",
       "    <tr>\n",
       "      <th>2171</th>\n",
       "      <td>(22326)</td>\n",
       "      <td>(22625)</td>\n",
       "      <td>0.249443</td>\n",
       "      <td>0.055679</td>\n",
       "      <td>0.011136</td>\n",
       "      <td>0.044643</td>\n",
       "      <td>0.801786</td>\n",
       "      <td>-0.002753</td>\n",
       "      <td>0.988448</td>\n",
       "      <td>-0.247768</td>\n",
       "    </tr>\n",
       "    <tr>\n",
       "      <th>2170</th>\n",
       "      <td>(22625)</td>\n",
       "      <td>(22326)</td>\n",
       "      <td>0.055679</td>\n",
       "      <td>0.249443</td>\n",
       "      <td>0.011136</td>\n",
       "      <td>0.200000</td>\n",
       "      <td>0.801786</td>\n",
       "      <td>-0.002753</td>\n",
       "      <td>0.938196</td>\n",
       "      <td>-0.207477</td>\n",
       "    </tr>\n",
       "    <tr>\n",
       "      <th>2225</th>\n",
       "      <td>(22326)</td>\n",
       "      <td>(22961)</td>\n",
       "      <td>0.249443</td>\n",
       "      <td>0.093541</td>\n",
       "      <td>0.017817</td>\n",
       "      <td>0.071429</td>\n",
       "      <td>0.763605</td>\n",
       "      <td>-0.005516</td>\n",
       "      <td>0.976186</td>\n",
       "      <td>-0.292017</td>\n",
       "    </tr>\n",
       "    <tr>\n",
       "      <th>2224</th>\n",
       "      <td>(22961)</td>\n",
       "      <td>(22326)</td>\n",
       "      <td>0.093541</td>\n",
       "      <td>0.249443</td>\n",
       "      <td>0.017817</td>\n",
       "      <td>0.190476</td>\n",
       "      <td>0.763605</td>\n",
       "      <td>-0.005516</td>\n",
       "      <td>0.927158</td>\n",
       "      <td>-0.254579</td>\n",
       "    </tr>\n",
       "  </tbody>\n",
       "</table>\n",
       "</div>"
      ],
      "text/plain": [
       "     antecedents consequents  antecedent support  consequent support   support  confidence      lift  leverage  conviction  zhangs_metric\n",
       "2339     (22326)    (85099B)            0.249443            0.080178  0.017817    0.071429  0.890873 -0.002183    0.990577      -0.140306\n",
       "2420     (22328)     (22961)            0.160356            0.093541  0.013363    0.083333  0.890873 -0.001637    0.988864      -0.127315\n",
       "2451     (23240)     (22328)            0.077951            0.160356  0.011136    0.142857  0.890873 -0.001364    0.979584      -0.117271\n",
       "2338    (85099B)     (22326)            0.080178            0.249443  0.017817    0.222222  0.890873 -0.002183    0.965002      -0.117521\n",
       "2421     (22961)     (22328)            0.093541            0.160356  0.013363    0.142857  0.890873 -0.001637    0.979584      -0.119048\n",
       "2450     (22328)     (23240)            0.160356            0.077951  0.011136    0.069444  0.890873 -0.001364    0.990859      -0.127315\n",
       "2171     (22326)     (22625)            0.249443            0.055679  0.011136    0.044643  0.801786 -0.002753    0.988448      -0.247768\n",
       "2170     (22625)     (22326)            0.055679            0.249443  0.011136    0.200000  0.801786 -0.002753    0.938196      -0.207477\n",
       "2225     (22326)     (22961)            0.249443            0.093541  0.017817    0.071429  0.763605 -0.005516    0.976186      -0.292017\n",
       "2224     (22961)     (22326)            0.093541            0.249443  0.017817    0.190476  0.763605 -0.005516    0.927158      -0.254579"
      ]
     },
     "execution_count": 60,
     "metadata": {},
     "output_type": "execute_result"
    }
   ],
   "source": [
    "recom_rules.sort_values(by = 'lift', ascending = False).tail(10)"
   ]
  },
  {
   "cell_type": "markdown",
   "id": "7830f705",
   "metadata": {},
   "source": [
    "### Output for User Recommendation"
   ]
  },
  {
   "cell_type": "code",
   "execution_count": 61,
   "id": "95a1466c",
   "metadata": {},
   "outputs": [],
   "source": [
    "# def check_id(df, stock_code):\n",
    "#     i = 0\n",
    "#     product_name = None\n",
    "#     while i < len(df):\n",
    "#         if df.loc[i, 'StockCode'] == stock_code:\n",
    "#             product_name = df.loc[i, 'Description']\n",
    "#             break\n",
    "#         i += 1\n",
    "#     return product_name\n",
    "\n",
    "def check_id(df, stock_code):\n",
    "    matching_rows = df[df['StockCode'] == stock_code]\n",
    "    product_name = matching_rows['Description'].values[0] if not matching_rows.empty else None\n",
    "    return product_name"
   ]
  },
  {
   "cell_type": "markdown",
   "id": "4f145950",
   "metadata": {},
   "source": [
    "the check_id function allows you to look up the product name associated with a specific stock code in a given dataframe. It returns the product name if a match is found, or None if no match is found."
   ]
  },
  {
   "cell_type": "code",
   "execution_count": 62,
   "id": "eb0404e5",
   "metadata": {},
   "outputs": [],
   "source": [
    "# def arl_recommender(rules_df, product_id):\n",
    "#     sorted_rules = rules_df.sort_values(by='lift', ascending=False)\n",
    "#     idx = 0\n",
    "#     while idx < len(sorted_rules):\n",
    "#         product = sorted_rules.iloc[idx]['antecedents']\n",
    "#         for j in list(product):\n",
    "#             if j == product_id:\n",
    "#                 return list(sorted_rules.iloc[idx]['consequents'])[0]\n",
    "#         idx += 1\n",
    "\n",
    "def arl_recommender(rules_df, product_id):\n",
    "  sorted_rules = rules_df.sort_values(by='lift', ascending=False)\n",
    "  for idx, product in enumerate(sorted_rules['antecedents']):\n",
    "    for j in list(product):\n",
    "      if j == product_id:\n",
    "        return list(sorted_rules.iloc[idx]['consequents'])[0]"
   ]
  },
  {
   "cell_type": "markdown",
   "id": "3a621d62",
   "metadata": {},
   "source": [
    "the above code sorts association rules based on their lift values and finds a recommendation by checking the antecedents of each rule for a match with the given product ID. If a match is found, the first consequent of that rule is returned as the recommendation."
   ]
  },
  {
   "cell_type": "code",
   "execution_count": 63,
   "id": "f081e0b5",
   "metadata": {},
   "outputs": [],
   "source": [
    "# product_list = [21987, 23235, 22747]\n",
    "# recom_list = []\n",
    "\n",
    "# for product in product_list:\n",
    "#   recom_list.append(arl_recommender(recom_rules, product))\n",
    "product_list = [21987, 23235, 22747]\n",
    "recom_list = []\n",
    "\n",
    "for product in product_list:\n",
    "  recom_list.append(arl_recommender(recom_rules, product))"
   ]
  },
  {
   "cell_type": "markdown",
   "id": "21ce115f",
   "metadata": {},
   "source": [
    "the above code give you recommendation list of the product"
   ]
  },
  {
   "cell_type": "code",
   "execution_count": 64,
   "id": "26adb7bf",
   "metadata": {},
   "outputs": [
    {
     "data": {
      "text/html": [
       "<div>\n",
       "<style scoped>\n",
       "    .dataframe tbody tr th:only-of-type {\n",
       "        vertical-align: middle;\n",
       "    }\n",
       "\n",
       "    .dataframe tbody tr th {\n",
       "        vertical-align: top;\n",
       "    }\n",
       "\n",
       "    .dataframe thead th {\n",
       "        text-align: right;\n",
       "    }\n",
       "</style>\n",
       "<table border=\"1\" class=\"dataframe\">\n",
       "  <thead>\n",
       "    <tr style=\"text-align: right;\">\n",
       "      <th></th>\n",
       "      <th>Invoice</th>\n",
       "      <th>StockCode</th>\n",
       "      <th>Description</th>\n",
       "      <th>Quantity</th>\n",
       "      <th>Price</th>\n",
       "      <th>Customer ID</th>\n",
       "      <th>Country</th>\n",
       "    </tr>\n",
       "    <tr>\n",
       "      <th>InvoiceDate</th>\n",
       "      <th></th>\n",
       "      <th></th>\n",
       "      <th></th>\n",
       "      <th></th>\n",
       "      <th></th>\n",
       "      <th></th>\n",
       "      <th></th>\n",
       "    </tr>\n",
       "  </thead>\n",
       "  <tbody>\n",
       "    <tr>\n",
       "      <th>2010-12-01 08:26:00</th>\n",
       "      <td>536365</td>\n",
       "      <td>85123A</td>\n",
       "      <td>WHITE HANGING HEART T-LIGHT HOLDER</td>\n",
       "      <td>6.0</td>\n",
       "      <td>2.55</td>\n",
       "      <td>17850.0</td>\n",
       "      <td>United Kingdom</td>\n",
       "    </tr>\n",
       "    <tr>\n",
       "      <th>2010-12-01 08:26:00</th>\n",
       "      <td>536365</td>\n",
       "      <td>71053</td>\n",
       "      <td>WHITE METAL LANTERN</td>\n",
       "      <td>6.0</td>\n",
       "      <td>3.39</td>\n",
       "      <td>17850.0</td>\n",
       "      <td>United Kingdom</td>\n",
       "    </tr>\n",
       "    <tr>\n",
       "      <th>2010-12-01 08:26:00</th>\n",
       "      <td>536365</td>\n",
       "      <td>84406B</td>\n",
       "      <td>CREAM CUPID HEARTS COAT HANGER</td>\n",
       "      <td>8.0</td>\n",
       "      <td>2.75</td>\n",
       "      <td>17850.0</td>\n",
       "      <td>United Kingdom</td>\n",
       "    </tr>\n",
       "    <tr>\n",
       "      <th>2010-12-01 08:26:00</th>\n",
       "      <td>536365</td>\n",
       "      <td>84029G</td>\n",
       "      <td>KNITTED UNION FLAG HOT WATER BOTTLE</td>\n",
       "      <td>6.0</td>\n",
       "      <td>3.39</td>\n",
       "      <td>17850.0</td>\n",
       "      <td>United Kingdom</td>\n",
       "    </tr>\n",
       "    <tr>\n",
       "      <th>2010-12-01 08:26:00</th>\n",
       "      <td>536365</td>\n",
       "      <td>84029E</td>\n",
       "      <td>RED WOOLLY HOTTIE WHITE HEART.</td>\n",
       "      <td>6.0</td>\n",
       "      <td>3.39</td>\n",
       "      <td>17850.0</td>\n",
       "      <td>United Kingdom</td>\n",
       "    </tr>\n",
       "  </tbody>\n",
       "</table>\n",
       "</div>"
      ],
      "text/plain": [
       "                    Invoice StockCode                          Description  Quantity  Price  Customer ID         Country\n",
       "InvoiceDate                                                                                                             \n",
       "2010-12-01 08:26:00  536365    85123A   WHITE HANGING HEART T-LIGHT HOLDER       6.0   2.55      17850.0  United Kingdom\n",
       "2010-12-01 08:26:00  536365     71053                  WHITE METAL LANTERN       6.0   3.39      17850.0  United Kingdom\n",
       "2010-12-01 08:26:00  536365    84406B       CREAM CUPID HEARTS COAT HANGER       8.0   2.75      17850.0  United Kingdom\n",
       "2010-12-01 08:26:00  536365    84029G  KNITTED UNION FLAG HOT WATER BOTTLE       6.0   3.39      17850.0  United Kingdom\n",
       "2010-12-01 08:26:00  536365    84029E       RED WOOLLY HOTTIE WHITE HEART.       6.0   3.39      17850.0  United Kingdom"
      ]
     },
     "execution_count": 64,
     "metadata": {},
     "output_type": "execute_result"
    }
   ],
   "source": [
    "df.head()"
   ]
  },
  {
   "cell_type": "code",
   "execution_count": 65,
   "id": "d44ed065",
   "metadata": {},
   "outputs": [
    {
     "data": {
      "text/plain": [
       "array(['85123A', 71053, '84406B', ..., '90214U', '47591b', 23843],\n",
       "      dtype=object)"
      ]
     },
     "execution_count": 65,
     "metadata": {},
     "output_type": "execute_result"
    }
   ],
   "source": [
    "df['StockCode'].unique()"
   ]
  },
  {
   "cell_type": "code",
   "execution_count": 66,
   "id": "2c25c470",
   "metadata": {},
   "outputs": [
    {
     "data": {
      "text/html": [
       "<div>\n",
       "<style scoped>\n",
       "    .dataframe tbody tr th:only-of-type {\n",
       "        vertical-align: middle;\n",
       "    }\n",
       "\n",
       "    .dataframe tbody tr th {\n",
       "        vertical-align: top;\n",
       "    }\n",
       "\n",
       "    .dataframe thead th {\n",
       "        text-align: right;\n",
       "    }\n",
       "</style>\n",
       "<table border=\"1\" class=\"dataframe\">\n",
       "  <thead>\n",
       "    <tr style=\"text-align: right;\">\n",
       "      <th></th>\n",
       "      <th>Invoice</th>\n",
       "      <th>StockCode</th>\n",
       "      <th>Description</th>\n",
       "      <th>Quantity</th>\n",
       "      <th>Price</th>\n",
       "      <th>Customer ID</th>\n",
       "      <th>Country</th>\n",
       "    </tr>\n",
       "    <tr>\n",
       "      <th>InvoiceDate</th>\n",
       "      <th></th>\n",
       "      <th></th>\n",
       "      <th></th>\n",
       "      <th></th>\n",
       "      <th></th>\n",
       "      <th></th>\n",
       "      <th></th>\n",
       "    </tr>\n",
       "  </thead>\n",
       "  <tbody>\n",
       "    <tr>\n",
       "      <th>2010-12-02 12:47:00</th>\n",
       "      <td>536732</td>\n",
       "      <td>21987</td>\n",
       "      <td>PACK OF 6 SKULL PAPER CUPS</td>\n",
       "      <td>12.0</td>\n",
       "      <td>0.65</td>\n",
       "      <td>15544.0</td>\n",
       "      <td>United Kingdom</td>\n",
       "    </tr>\n",
       "    <tr>\n",
       "      <th>2010-12-05 12:13:00</th>\n",
       "      <td>537126</td>\n",
       "      <td>21987</td>\n",
       "      <td>PACK OF 6 SKULL PAPER CUPS</td>\n",
       "      <td>5.0</td>\n",
       "      <td>0.65</td>\n",
       "      <td>18118.0</td>\n",
       "      <td>United Kingdom</td>\n",
       "    </tr>\n",
       "    <tr>\n",
       "      <th>2010-12-14 13:11:00</th>\n",
       "      <td>538841</td>\n",
       "      <td>21987</td>\n",
       "      <td>PACK OF 6 SKULL PAPER CUPS</td>\n",
       "      <td>6.0</td>\n",
       "      <td>0.65</td>\n",
       "      <td>16899.0</td>\n",
       "      <td>United Kingdom</td>\n",
       "    </tr>\n",
       "    <tr>\n",
       "      <th>2010-12-14 16:07:00</th>\n",
       "      <td>538886</td>\n",
       "      <td>21987</td>\n",
       "      <td>PACK OF 6 SKULL PAPER CUPS</td>\n",
       "      <td>12.0</td>\n",
       "      <td>0.65</td>\n",
       "      <td>13846.0</td>\n",
       "      <td>United Kingdom</td>\n",
       "    </tr>\n",
       "    <tr>\n",
       "      <th>2010-12-20 14:10:00</th>\n",
       "      <td>539607</td>\n",
       "      <td>21987</td>\n",
       "      <td>PACK OF 6 SKULL PAPER CUPS</td>\n",
       "      <td>12.0</td>\n",
       "      <td>0.65</td>\n",
       "      <td>12681.0</td>\n",
       "      <td>France</td>\n",
       "    </tr>\n",
       "    <tr>\n",
       "      <th>...</th>\n",
       "      <td>...</td>\n",
       "      <td>...</td>\n",
       "      <td>...</td>\n",
       "      <td>...</td>\n",
       "      <td>...</td>\n",
       "      <td>...</td>\n",
       "      <td>...</td>\n",
       "    </tr>\n",
       "    <tr>\n",
       "      <th>2011-11-22 16:02:00</th>\n",
       "      <td>578072</td>\n",
       "      <td>21987</td>\n",
       "      <td>PACK OF 6 SKULL PAPER CUPS</td>\n",
       "      <td>3.0</td>\n",
       "      <td>0.65</td>\n",
       "      <td>17759.0</td>\n",
       "      <td>United Kingdom</td>\n",
       "    </tr>\n",
       "    <tr>\n",
       "      <th>2011-11-28 13:26:00</th>\n",
       "      <td>579152</td>\n",
       "      <td>21987</td>\n",
       "      <td>PACK OF 6 SKULL PAPER CUPS</td>\n",
       "      <td>12.0</td>\n",
       "      <td>0.65</td>\n",
       "      <td>12479.0</td>\n",
       "      <td>Germany</td>\n",
       "    </tr>\n",
       "    <tr>\n",
       "      <th>2011-12-05 16:28:00</th>\n",
       "      <td>580705</td>\n",
       "      <td>21987</td>\n",
       "      <td>PACK OF 6 SKULL PAPER CUPS</td>\n",
       "      <td>12.0</td>\n",
       "      <td>0.65</td>\n",
       "      <td>12683.0</td>\n",
       "      <td>France</td>\n",
       "    </tr>\n",
       "    <tr>\n",
       "      <th>2011-12-06 14:23:00</th>\n",
       "      <td>580956</td>\n",
       "      <td>21987</td>\n",
       "      <td>PACK OF 6 SKULL PAPER CUPS</td>\n",
       "      <td>2.0</td>\n",
       "      <td>0.65</td>\n",
       "      <td>17841.0</td>\n",
       "      <td>United Kingdom</td>\n",
       "    </tr>\n",
       "    <tr>\n",
       "      <th>2011-12-09 10:26:00</th>\n",
       "      <td>581498</td>\n",
       "      <td>21987</td>\n",
       "      <td>PACK OF 6 SKULL PAPER CUPS</td>\n",
       "      <td>2.0</td>\n",
       "      <td>1.63</td>\n",
       "      <td>15498.0</td>\n",
       "      <td>United Kingdom</td>\n",
       "    </tr>\n",
       "  </tbody>\n",
       "</table>\n",
       "<p>176 rows × 7 columns</p>\n",
       "</div>"
      ],
      "text/plain": [
       "                    Invoice StockCode                 Description  Quantity  Price  Customer ID         Country\n",
       "InvoiceDate                                                                                                    \n",
       "2010-12-02 12:47:00  536732     21987  PACK OF 6 SKULL PAPER CUPS      12.0   0.65      15544.0  United Kingdom\n",
       "2010-12-05 12:13:00  537126     21987  PACK OF 6 SKULL PAPER CUPS       5.0   0.65      18118.0  United Kingdom\n",
       "2010-12-14 13:11:00  538841     21987  PACK OF 6 SKULL PAPER CUPS       6.0   0.65      16899.0  United Kingdom\n",
       "2010-12-14 16:07:00  538886     21987  PACK OF 6 SKULL PAPER CUPS      12.0   0.65      13846.0  United Kingdom\n",
       "2010-12-20 14:10:00  539607     21987  PACK OF 6 SKULL PAPER CUPS      12.0   0.65      12681.0          France\n",
       "...                     ...       ...                         ...       ...    ...          ...             ...\n",
       "2011-11-22 16:02:00  578072     21987  PACK OF 6 SKULL PAPER CUPS       3.0   0.65      17759.0  United Kingdom\n",
       "2011-11-28 13:26:00  579152     21987  PACK OF 6 SKULL PAPER CUPS      12.0   0.65      12479.0         Germany\n",
       "2011-12-05 16:28:00  580705     21987  PACK OF 6 SKULL PAPER CUPS      12.0   0.65      12683.0          France\n",
       "2011-12-06 14:23:00  580956     21987  PACK OF 6 SKULL PAPER CUPS       2.0   0.65      17841.0  United Kingdom\n",
       "2011-12-09 10:26:00  581498     21987  PACK OF 6 SKULL PAPER CUPS       2.0   1.63      15498.0  United Kingdom\n",
       "\n",
       "[176 rows x 7 columns]"
      ]
     },
     "execution_count": 66,
     "metadata": {},
     "output_type": "execute_result"
    }
   ],
   "source": [
    "df[df['StockCode'] == 21987]"
   ]
  },
  {
   "cell_type": "code",
   "execution_count": 67,
   "id": "334964ef",
   "metadata": {},
   "outputs": [
    {
     "data": {
      "text/plain": [
       "Invoice        333\n",
       "StockCode        1\n",
       "Description      2\n",
       "Quantity        21\n",
       "Price            4\n",
       "Customer ID    213\n",
       "Country          4\n",
       "dtype: int64"
      ]
     },
     "execution_count": 67,
     "metadata": {},
     "output_type": "execute_result"
    }
   ],
   "source": [
    "df[df['StockCode'] == 71053].nunique()"
   ]
  },
  {
   "cell_type": "code",
   "execution_count": 68,
   "id": "bdf06ab5",
   "metadata": {},
   "outputs": [
    {
     "data": {
      "text/html": [
       "<div>\n",
       "<style scoped>\n",
       "    .dataframe tbody tr th:only-of-type {\n",
       "        vertical-align: middle;\n",
       "    }\n",
       "\n",
       "    .dataframe tbody tr th {\n",
       "        vertical-align: top;\n",
       "    }\n",
       "\n",
       "    .dataframe thead th {\n",
       "        text-align: right;\n",
       "    }\n",
       "</style>\n",
       "<table border=\"1\" class=\"dataframe\">\n",
       "  <thead>\n",
       "    <tr style=\"text-align: right;\">\n",
       "      <th></th>\n",
       "      <th>Invoice</th>\n",
       "      <th>StockCode</th>\n",
       "      <th>Description</th>\n",
       "      <th>Quantity</th>\n",
       "      <th>Price</th>\n",
       "      <th>Customer ID</th>\n",
       "      <th>Country</th>\n",
       "    </tr>\n",
       "    <tr>\n",
       "      <th>InvoiceDate</th>\n",
       "      <th></th>\n",
       "      <th></th>\n",
       "      <th></th>\n",
       "      <th></th>\n",
       "      <th></th>\n",
       "      <th></th>\n",
       "      <th></th>\n",
       "    </tr>\n",
       "  </thead>\n",
       "  <tbody>\n",
       "    <tr>\n",
       "      <th>2010-12-01 08:26:00</th>\n",
       "      <td>536365</td>\n",
       "      <td>71053</td>\n",
       "      <td>WHITE METAL LANTERN</td>\n",
       "      <td>6.0</td>\n",
       "      <td>3.39</td>\n",
       "      <td>17850.0</td>\n",
       "      <td>United Kingdom</td>\n",
       "    </tr>\n",
       "    <tr>\n",
       "      <th>2010-12-01 09:02:00</th>\n",
       "      <td>536373</td>\n",
       "      <td>71053</td>\n",
       "      <td>WHITE METAL LANTERN</td>\n",
       "      <td>6.0</td>\n",
       "      <td>3.39</td>\n",
       "      <td>17850.0</td>\n",
       "      <td>United Kingdom</td>\n",
       "    </tr>\n",
       "    <tr>\n",
       "      <th>2010-12-01 09:32:00</th>\n",
       "      <td>536375</td>\n",
       "      <td>71053</td>\n",
       "      <td>WHITE METAL LANTERN</td>\n",
       "      <td>6.0</td>\n",
       "      <td>3.39</td>\n",
       "      <td>17850.0</td>\n",
       "      <td>United Kingdom</td>\n",
       "    </tr>\n",
       "    <tr>\n",
       "      <th>2010-12-01 10:51:00</th>\n",
       "      <td>536396</td>\n",
       "      <td>71053</td>\n",
       "      <td>WHITE METAL LANTERN</td>\n",
       "      <td>6.0</td>\n",
       "      <td>3.39</td>\n",
       "      <td>17850.0</td>\n",
       "      <td>United Kingdom</td>\n",
       "    </tr>\n",
       "    <tr>\n",
       "      <th>2010-12-01 11:33:00</th>\n",
       "      <td>536406</td>\n",
       "      <td>71053</td>\n",
       "      <td>WHITE METAL LANTERN</td>\n",
       "      <td>8.0</td>\n",
       "      <td>3.39</td>\n",
       "      <td>17850.0</td>\n",
       "      <td>United Kingdom</td>\n",
       "    </tr>\n",
       "    <tr>\n",
       "      <th>...</th>\n",
       "      <td>...</td>\n",
       "      <td>...</td>\n",
       "      <td>...</td>\n",
       "      <td>...</td>\n",
       "      <td>...</td>\n",
       "      <td>...</td>\n",
       "      <td>...</td>\n",
       "    </tr>\n",
       "    <tr>\n",
       "      <th>2011-12-07 14:12:00</th>\n",
       "      <td>581149</td>\n",
       "      <td>71053</td>\n",
       "      <td>WHITE MOROCCAN METAL LANTERN</td>\n",
       "      <td>1.0</td>\n",
       "      <td>3.75</td>\n",
       "      <td>15471.0</td>\n",
       "      <td>United Kingdom</td>\n",
       "    </tr>\n",
       "    <tr>\n",
       "      <th>2011-12-07 14:12:00</th>\n",
       "      <td>581149</td>\n",
       "      <td>71053</td>\n",
       "      <td>WHITE MOROCCAN METAL LANTERN</td>\n",
       "      <td>1.0</td>\n",
       "      <td>3.75</td>\n",
       "      <td>15471.0</td>\n",
       "      <td>United Kingdom</td>\n",
       "    </tr>\n",
       "    <tr>\n",
       "      <th>2011-12-08 09:28:00</th>\n",
       "      <td>581219</td>\n",
       "      <td>71053</td>\n",
       "      <td>WHITE MOROCCAN METAL LANTERN</td>\n",
       "      <td>1.0</td>\n",
       "      <td>8.29</td>\n",
       "      <td>13924.0</td>\n",
       "      <td>United Kingdom</td>\n",
       "    </tr>\n",
       "    <tr>\n",
       "      <th>2011-12-08 16:30:00</th>\n",
       "      <td>581439</td>\n",
       "      <td>71053</td>\n",
       "      <td>WHITE MOROCCAN METAL LANTERN</td>\n",
       "      <td>1.0</td>\n",
       "      <td>8.29</td>\n",
       "      <td>13536.0</td>\n",
       "      <td>United Kingdom</td>\n",
       "    </tr>\n",
       "    <tr>\n",
       "      <th>2011-12-09 10:26:00</th>\n",
       "      <td>581498</td>\n",
       "      <td>71053</td>\n",
       "      <td>WHITE MOROCCAN METAL LANTERN</td>\n",
       "      <td>1.0</td>\n",
       "      <td>8.29</td>\n",
       "      <td>15498.0</td>\n",
       "      <td>United Kingdom</td>\n",
       "    </tr>\n",
       "  </tbody>\n",
       "</table>\n",
       "<p>346 rows × 7 columns</p>\n",
       "</div>"
      ],
      "text/plain": [
       "                    Invoice StockCode                   Description  Quantity  Price  Customer ID         Country\n",
       "InvoiceDate                                                                                                      \n",
       "2010-12-01 08:26:00  536365     71053           WHITE METAL LANTERN       6.0   3.39      17850.0  United Kingdom\n",
       "2010-12-01 09:02:00  536373     71053           WHITE METAL LANTERN       6.0   3.39      17850.0  United Kingdom\n",
       "2010-12-01 09:32:00  536375     71053           WHITE METAL LANTERN       6.0   3.39      17850.0  United Kingdom\n",
       "2010-12-01 10:51:00  536396     71053           WHITE METAL LANTERN       6.0   3.39      17850.0  United Kingdom\n",
       "2010-12-01 11:33:00  536406     71053           WHITE METAL LANTERN       8.0   3.39      17850.0  United Kingdom\n",
       "...                     ...       ...                           ...       ...    ...          ...             ...\n",
       "2011-12-07 14:12:00  581149     71053  WHITE MOROCCAN METAL LANTERN       1.0   3.75      15471.0  United Kingdom\n",
       "2011-12-07 14:12:00  581149     71053  WHITE MOROCCAN METAL LANTERN       1.0   3.75      15471.0  United Kingdom\n",
       "2011-12-08 09:28:00  581219     71053  WHITE MOROCCAN METAL LANTERN       1.0   8.29      13924.0  United Kingdom\n",
       "2011-12-08 16:30:00  581439     71053  WHITE MOROCCAN METAL LANTERN       1.0   8.29      13536.0  United Kingdom\n",
       "2011-12-09 10:26:00  581498     71053  WHITE MOROCCAN METAL LANTERN       1.0   8.29      15498.0  United Kingdom\n",
       "\n",
       "[346 rows x 7 columns]"
      ]
     },
     "execution_count": 68,
     "metadata": {},
     "output_type": "execute_result"
    }
   ],
   "source": [
    "df[df['StockCode'] == 71053]"
   ]
  },
  {
   "cell_type": "code",
   "execution_count": 69,
   "id": "4371ef50",
   "metadata": {},
   "outputs": [
    {
     "name": "stdout",
     "output_type": "stream",
     "text": [
      "<class 'pandas.core.frame.DataFrame'>\n",
      "DatetimeIndex: 528978 entries, 2010-12-01 08:26:00 to 2011-12-09 12:50:00\n",
      "Data columns (total 7 columns):\n",
      " #   Column       Non-Null Count   Dtype  \n",
      "---  ------       --------------   -----  \n",
      " 0   Invoice      528978 non-null  object \n",
      " 1   StockCode    528978 non-null  object \n",
      " 2   Description  528978 non-null  object \n",
      " 3   Quantity     528978 non-null  float64\n",
      " 4   Price        528978 non-null  float64\n",
      " 5   Customer ID  528978 non-null  float64\n",
      " 6   Country      528978 non-null  object \n",
      "dtypes: float64(3), object(4)\n",
      "memory usage: 32.3+ MB\n"
     ]
    }
   ],
   "source": [
    "df.info()"
   ]
  },
  {
   "cell_type": "code",
   "execution_count": 70,
   "id": "bde740b4",
   "metadata": {},
   "outputs": [
    {
     "data": {
      "text/plain": [
       "[21989, 23244, 22746]"
      ]
     },
     "execution_count": 70,
     "metadata": {},
     "output_type": "execute_result"
    }
   ],
   "source": [
    "recom_list"
   ]
  },
  {
   "cell_type": "code",
   "execution_count": 71,
   "id": "1a9bcc05",
   "metadata": {},
   "outputs": [
    {
     "name": "stdout",
     "output_type": "stream",
     "text": [
      "PACK OF 6 SKULL PAPER CUPS\n",
      "STORAGE TIN VINTAGE LEAF\n",
      "POPPY'S PLAYHOUSE BATHROOM\n"
     ]
    }
   ],
   "source": [
    "for product in product_list:\n",
    "  print(check_id(df, product))"
   ]
  },
  {
   "cell_type": "markdown",
   "id": "6d0f7aa0",
   "metadata": {},
   "source": [
    "the above code generate the orignal items from the data"
   ]
  },
  {
   "cell_type": "code",
   "execution_count": 72,
   "id": "622a9c67",
   "metadata": {},
   "outputs": [
    {
     "name": "stdout",
     "output_type": "stream",
     "text": [
      "PACK OF 20 SKULL PAPER NAPKINS\n",
      "ROUND STORAGE TIN VINTAGE LEAF\n",
      "POPPY'S PLAYHOUSE LIVINGROOM \n"
     ]
    }
   ],
   "source": [
    "for recom in recom_list:\n",
    "  print(check_id(df, recom))"
   ]
  },
  {
   "cell_type": "markdown",
   "id": "6c239f77",
   "metadata": {},
   "source": [
    "this above code is giving you the recommendation items i.e final product"
   ]
  },
  {
   "cell_type": "code",
   "execution_count": null,
   "id": "843dbe0d",
   "metadata": {},
   "outputs": [],
   "source": []
  },
  {
   "cell_type": "code",
   "execution_count": null,
   "id": "9852c9a2",
   "metadata": {},
   "outputs": [],
   "source": []
  },
  {
   "cell_type": "code",
   "execution_count": null,
   "id": "8d571cf5",
   "metadata": {},
   "outputs": [],
   "source": []
  },
  {
   "cell_type": "code",
   "execution_count": null,
   "id": "3a565752",
   "metadata": {},
   "outputs": [],
   "source": []
  }
 ],
 "metadata": {
  "kernelspec": {
   "display_name": "Python 3 (ipykernel)",
   "language": "python",
   "name": "python3"
  },
  "language_info": {
   "codemirror_mode": {
    "name": "ipython",
    "version": 3
   },
   "file_extension": ".py",
   "mimetype": "text/x-python",
   "name": "python",
   "nbconvert_exporter": "python",
   "pygments_lexer": "ipython3",
   "version": "3.10.9"
  }
 },
 "nbformat": 4,
 "nbformat_minor": 5
}
